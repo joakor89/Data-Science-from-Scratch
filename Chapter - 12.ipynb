{
 "cells": [
  {
   "cell_type": "markdown",
   "id": "36c662e7",
   "metadata": {},
   "source": [
    "# Chapter 12 - K Nearest Neighbors "
   ]
  },
  {
   "cell_type": "markdown",
   "id": "962b0c3a",
   "metadata": {},
   "source": [
    "### The Model\n",
    "#### import Libraries"
   ]
  },
  {
   "cell_type": "code",
   "execution_count": 1,
   "id": "5209cf93",
   "metadata": {},
   "outputs": [],
   "source": [
    "import numpy as np\n",
    "import pandas as pd\n",
    "import matplotlib.pyplot as plt\n",
    "from typing import List\n",
    "from collections import Counter\n",
    "from typing import NamedTuple\n",
    "import requests"
   ]
  },
  {
   "cell_type": "code",
   "execution_count": 2,
   "id": "9387b60f",
   "metadata": {},
   "outputs": [],
   "source": [
    "def raw_majority_vote(labels: List[str]) -> str:\n",
    "    votes = Counter(labels)\n",
    "    winner, _ = votes.most_common(1)[0]\n",
    "    return winner"
   ]
  },
  {
   "cell_type": "code",
   "execution_count": 3,
   "id": "fecb8684",
   "metadata": {},
   "outputs": [],
   "source": [
    "assert raw_majority_vote(['a', 'b', 'c', 'b']) == 'b'"
   ]
  },
  {
   "cell_type": "code",
   "execution_count": 4,
   "id": "bdb17278",
   "metadata": {},
   "outputs": [],
   "source": [
    "def majority_vote(labels: List[str]) -> str:\n",
    "    vote_counts = Counter(labels)\n",
    "    winner, winner_count = vote_counts.most_common(1)[0]\n",
    "    num_winners = len([count\n",
    "                       for count in vote_counts.values()\n",
    "                       if count == winner_count])\n",
    "    if num_winners == 1:\n",
    "        return winner\n",
    "    else:\n",
    "        return majority_vote(['a', 'b', 'c', 'b', 'a']) == 'b'"
   ]
  },
  {
   "cell_type": "code",
   "execution_count": 5,
   "id": "6e88d7f7",
   "metadata": {},
   "outputs": [],
   "source": [
    "Vector = List[float]\n",
    "\n",
    "def dot(v: Vector, w: Vector) -> float:\n",
    "    \"\"\"Computes v_1 * w_1 + ... + v_n * w_n\"\"\"\n",
    "    assert len(v) == len(w), \"vectors must be same length\"\n",
    "\n",
    "    return sum(v_i * w_i for v_i, w_i in zip(v, w))\n",
    "\n",
    "assert dot([1, 2, 3], [4, 5, 6]) == 32  # 1 * 4 + 2 * 5 + 3 * 6\n",
    "\n",
    "def sum_of_squares(v: Vector) -> float:\n",
    "    \"\"\"Returns v_1 * v_1 + ... + v_n * v_n\"\"\"\n",
    "    return dot(v, v)\n",
    "\n",
    "\n",
    "def squared_distance(v: Vector, w: Vector) -> float:\n",
    "    \"\"\"Computes (v_1 - w_1) ** 2 + ... + (v_n - w_n) ** 2\"\"\"\n",
    "    return sum_of_squares(subtract(v, w))\n",
    "\n",
    "def distance(v: Vector, w: Vector) -> float:\n",
    "    \"\"\"Computes the distance between v and w\"\"\"\n",
    "    return math.sqrt(squared_distance(v, w))"
   ]
  },
  {
   "cell_type": "code",
   "execution_count": 6,
   "id": "132f3c8c",
   "metadata": {},
   "outputs": [],
   "source": [
    "# Setting Class LabeledPoint\n",
    "\n",
    "class LabeledPoint(NamedTuple):\n",
    "    point: Vector\n",
    "    label: str\n",
    "        \n",
    "def knn_classify(k: int,\n",
    "                 labeled_points: List[LabeledPoint],\n",
    "                 new_point: Vector) -> str:\n",
    "    \n",
    "    by_distance = sorted(labeled_points,\n",
    "                         key=lambda lp: distance(lp.point, new_point))\n",
    "    \n",
    "    k_nearest_labels = [lp.label for lp in by_distance[:k]]\n",
    "    \n",
    "    return majority_vote(k_nearest_labels)"
   ]
  },
  {
   "cell_type": "markdown",
   "id": "59a793be",
   "metadata": {},
   "source": [
    "### Example: The iris Dataset"
   ]
  },
  {
   "cell_type": "code",
   "execution_count": 30,
   "id": "b2f6aaee",
   "metadata": {},
   "outputs": [],
   "source": [
    "data = requests.get(\n",
    "    \"https://archive.ics.uci.edu/ml/machine-learning-databases/iris/iris.data\"\n",
    ")"
   ]
  },
  {
   "cell_type": "code",
   "execution_count": 31,
   "id": "625ceb4c",
   "metadata": {},
   "outputs": [],
   "source": [
    "with open('iris.data', 'w') as f:\n",
    "    f.write(data.text)"
   ]
  },
  {
   "cell_type": "code",
   "execution_count": 32,
   "id": "463ea647",
   "metadata": {},
   "outputs": [],
   "source": [
    "from typing import Dict\n",
    "import csv\n",
    "from collections import defaultdict"
   ]
  },
  {
   "cell_type": "code",
   "execution_count": 34,
   "id": "51c0af6e",
   "metadata": {},
   "outputs": [],
   "source": [
    "# def parse_iris_row(row: List[str]) -> LabeledPoint:\n",
    "#     measurements = [float(value) for value in row[:-1]]\n",
    "#     label = row[-1].split(\"-\")[-1]\n",
    "    \n",
    "#     return LabeledPoint(measurements, label)\n",
    "\n",
    "# with open('iris.data') as f:\n",
    "#     reader = csv.reader(f)\n",
    "#     iris_data = [parse_iris_row(row) for row in reader]\n",
    "    \n",
    "# points_by_species: Dict[str, List[Vector]] = defaultdict(list)\n",
    "# for iris in iris_data:\n",
    "#     points_by_species[iris.label].append(iris.point)"
   ]
  },
  {
   "cell_type": "code",
   "execution_count": 19,
   "id": "354fd24a",
   "metadata": {},
   "outputs": [],
   "source": [
    "# metrics = [' sepal length', 'sepal width', 'petal length', 'petal width']\n",
    "# pairs = [(i, j) for i in range(4) for j in range(4) if i < j]\n",
    "# marks = ['+', '.', 'x']\n",
    "\n",
    "# fig, ax = plt.subplot(2, 3)\n",
    "\n",
    "# for row in range(2):\n",
    "#     for col in range(3):\n",
    "#         i, j = pairs[3 * row + col]\n",
    "#         ax[row][col].set_title(f\"{metrics[i]} vs {metrics[j]}\", fontsize=8)\n",
    "#         ax[row][col].set_xticks([])\n",
    "#         ax[row][col].set_yticks([])\n",
    "        \n",
    "#         for mark, (species, points) in zip(marks, points_by_species.items()):\n",
    "#             xs = [point[i] for point in points]\n",
    "#             ys = [point[j] for point in points]\n",
    "#             ax[row][col].scatter(xs, ys, marker=mark, label=species)\n",
    "            \n",
    "# ax[-1][-1].legend(loc='lower right', prop={'size': 6})"
   ]
  },
  {
   "cell_type": "code",
   "execution_count": 20,
   "id": "c6fd2249",
   "metadata": {},
   "outputs": [],
   "source": [
    "import random\n",
    "from typing import TypeVar, List, Tuple\n",
    "\n",
    "X = TypeVar('X')  # generic type to represent a data point\n",
    "\n",
    "def split_data(data: List[X], prob: float) -> Tuple[List[X], List[X]]:\n",
    "    \"\"\"Split data into fractions [prob, 1 - prob]\"\"\"\n",
    "    data = data[:]                    # Make a shallow copy\n",
    "    random.shuffle(data)              # because shuffle modifies the list.\n",
    "    cut = int(len(data) * prob)       # Use prob to find a cutoff\n",
    "    return data[:cut], data[cut:]     # and split the shuffled list there.\n",
    "\n",
    "data = [n for n in range(1000)]\n",
    "train, test = split_data(data, 0.75)\n",
    "\n",
    "# The proportions should be correct\n",
    "assert len(train) == 750\n",
    "assert len(test) == 250\n",
    "\n",
    "# And the original data should be preserved (in some order)\n",
    "assert sorted(train + test) == data\n",
    "\n",
    "Y = TypeVar('Y')  # generic type to represent output variables"
   ]
  },
  {
   "cell_type": "code",
   "execution_count": 21,
   "id": "6f31c5d5",
   "metadata": {},
   "outputs": [],
   "source": [
    "# random.seed(12)\n",
    "# iris_train, iris_test = split_data(iris_data, 0.70)\n",
    "# assert len(iris_train) == 0.7 * 150\n",
    "# assert len(iris_test) == 0.3 * 150"
   ]
  },
  {
   "cell_type": "code",
   "execution_count": 22,
   "id": "2a315428",
   "metadata": {},
   "outputs": [],
   "source": [
    "from typing import Tuple"
   ]
  },
  {
   "cell_type": "code",
   "execution_count": 24,
   "id": "3d79958b",
   "metadata": {},
   "outputs": [],
   "source": [
    "# confusion_matrix: Dict[Tuple[str, str], int] = defaultdict(int)\n",
    "# num_correct = 0\n",
    "\n",
    "# for iris in iris_test:\n",
    "#     predicted = knn_classify(5, lris_train, iris.point)\n",
    "#     actual = iris.label\n",
    "    \n",
    "#     if predicted == actual:\n",
    "#         num_correct += 1\n",
    "        \n",
    "#     confusion_matrix[(predicted, actual)] += 1 \n",
    "    \n",
    "# pct_correct = num_correct / len(iris_test)\n",
    "# print(pct_correct, cofusion_matrix)"
   ]
  },
  {
   "cell_type": "markdown",
   "id": "15f5c126",
   "metadata": {},
   "source": [
    "### Curse of Dimensionality"
   ]
  },
  {
   "cell_type": "code",
   "execution_count": 25,
   "id": "308f316b",
   "metadata": {},
   "outputs": [],
   "source": [
    "def random_point(dim: int) -> Vector:\n",
    "    return [random.random() for _ in range(dim)]\n",
    "\n",
    "def random_distance(dim: int, num_pairs: int) -> List[float]:\n",
    "    return [distance(random_point(dim), random_point(dim))\n",
    "            for _ in range(num_pairs)]"
   ]
  },
  {
   "cell_type": "code",
   "execution_count": 27,
   "id": "be4af98c",
   "metadata": {},
   "outputs": [],
   "source": [
    "# import tqdm\n",
    "# dimensions = range(1, 10)\n",
    "\n",
    "# avg_distances = []\n",
    "# min_distances = []\n",
    "\n",
    "# random.seed(0)\n",
    "# for dim in tqdm(dimensions, desc=\"Curse of Dimensionality\"):\n",
    "#     distances = random_distances(dim, 10000)\n",
    "#     avg_distances.append(sum(distances) / 10000)\n",
    "#     min_distances.append(min(distances))"
   ]
  },
  {
   "cell_type": "code",
   "execution_count": 28,
   "id": "75db4baf",
   "metadata": {},
   "outputs": [],
   "source": [
    "# min_avg_ratio = [min_dist / avg_dist\n",
    "#                  for_min_dist, avg_dist in zip(min_distances, avg_distances)]"
   ]
  }
 ],
 "metadata": {
  "kernelspec": {
   "display_name": "Python 3 (ipykernel)",
   "language": "python",
   "name": "python3"
  },
  "language_info": {
   "codemirror_mode": {
    "name": "ipython",
    "version": 3
   },
   "file_extension": ".py",
   "mimetype": "text/x-python",
   "name": "python",
   "nbconvert_exporter": "python",
   "pygments_lexer": "ipython3",
   "version": "3.9.16"
  }
 },
 "nbformat": 4,
 "nbformat_minor": 5
}
