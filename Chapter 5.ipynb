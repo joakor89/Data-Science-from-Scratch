{
 "cells": [
  {
   "cell_type": "markdown",
   "id": "626ddc33",
   "metadata": {},
   "source": [
    "# Chapter 5 - Statistics"
   ]
  },
  {
   "cell_type": "markdown",
   "id": "ed8f2a52",
   "metadata": {},
   "source": [
    "### Describing a Single Set of Data"
   ]
  },
  {
   "cell_type": "code",
   "execution_count": 18,
   "id": "fe905844",
   "metadata": {},
   "outputs": [],
   "source": [
    "import numpy as np\n",
    "import pandas as pd\n",
    "import matplotlib.pyplot as plt\n",
    "import math\n",
    "from collections import Counter\n",
    "from typing import List"
   ]
  },
  {
   "cell_type": "code",
   "execution_count": 19,
   "id": "02ad96eb",
   "metadata": {},
   "outputs": [],
   "source": [
    "num_friends = [100, 49, 41, 40, 25]"
   ]
  },
  {
   "cell_type": "code",
   "execution_count": 20,
   "id": "b5ea9e44",
   "metadata": {},
   "outputs": [
    {
     "data": {
      "image/png": "[encoded data removed]",
      "text/plain": [
       "<Figure size 640x480 with 1 Axes>"
      ]
     },
     "metadata": {},
     "output_type": "display_data"
    }
   ],
   "source": [
    "friend_counts = Counter(num_friends)\n",
    "xs = range(101)\n",
    "ys = [friend_counts[x] for x in xs]\n",
    "plt.bar(xs, ys)\n",
    "plt.axis([0, 101, 0, 25])\n",
    "plt.title(\"Friend Count Histogram\")\n",
    "plt.xlabel(\"# of friends\")\n",
    "plt.ylabel(\"# of people\")\n",
    "plt.show()"
   ]
  },
  {
   "cell_type": "code",
   "execution_count": 21,
   "id": "0a5b89aa",
   "metadata": {},
   "outputs": [
    {
     "data": {
      "text/plain": [
       "5"
      ]
     },
     "execution_count": 21,
     "metadata": {},
     "output_type": "execute_result"
    }
   ],
   "source": [
    "num_points = len(num_friends)\n",
    "num_points"
   ]
  },
  {
   "cell_type": "code",
   "execution_count": 22,
   "id": "9ec7e59a",
   "metadata": {},
   "outputs": [
    {
     "data": {
      "text/plain": [
       "100"
      ]
     },
     "execution_count": 22,
     "metadata": {},
     "output_type": "execute_result"
    }
   ],
   "source": [
    "largest_value = max(num_friends)\n",
    "largest_value"
   ]
  },
  {
   "cell_type": "code",
   "execution_count": 23,
   "id": "7d503f00",
   "metadata": {},
   "outputs": [
    {
     "data": {
      "text/plain": [
       "25"
      ]
     },
     "execution_count": 23,
     "metadata": {},
     "output_type": "execute_result"
    }
   ],
   "source": [
    "smallest_value = min(num_friends)\n",
    "smallest_value"
   ]
  },
  {
   "cell_type": "code",
   "execution_count": 24,
   "id": "92dd565d",
   "metadata": {},
   "outputs": [
    {
     "data": {
      "text/plain": [
       "[25, 40, 41, 49, 100]"
      ]
     },
     "execution_count": 24,
     "metadata": {},
     "output_type": "execute_result"
    }
   ],
   "source": [
    "sorted_values = sorted(num_friends)\n",
    "sorted_values"
   ]
  },
  {
   "cell_type": "code",
   "execution_count": 25,
   "id": "290a741a",
   "metadata": {},
   "outputs": [
    {
     "data": {
      "text/plain": [
       "25"
      ]
     },
     "execution_count": 25,
     "metadata": {},
     "output_type": "execute_result"
    }
   ],
   "source": [
    "smallest_value = sorted_values[0]\n",
    "smallest_value"
   ]
  },
  {
   "cell_type": "code",
   "execution_count": 26,
   "id": "1e769dbd",
   "metadata": {},
   "outputs": [
    {
     "data": {
      "text/plain": [
       "40"
      ]
     },
     "execution_count": 26,
     "metadata": {},
     "output_type": "execute_result"
    }
   ],
   "source": [
    "second_smallest_value = sorted_values[1]\n",
    "second_smallest_value"
   ]
  },
  {
   "cell_type": "code",
   "execution_count": 27,
   "id": "5f5a1a6f",
   "metadata": {},
   "outputs": [
    {
     "data": {
      "text/plain": [
       "49"
      ]
     },
     "execution_count": 27,
     "metadata": {},
     "output_type": "execute_result"
    }
   ],
   "source": [
    "second_largest_value = sorted_values[-2]\n",
    "second_largest_value"
   ]
  },
  {
   "cell_type": "markdown",
   "id": "c9ee1fab",
   "metadata": {},
   "source": [
    "### Central Tendercies"
   ]
  },
  {
   "cell_type": "code",
   "execution_count": 28,
   "id": "3da45fb9",
   "metadata": {},
   "outputs": [],
   "source": [
    "def mean(xs: List[float]) -> float:\n",
    "    return sum(xs) / len(xs)"
   ]
  },
  {
   "cell_type": "code",
   "execution_count": 29,
   "id": "7cbd2f6b",
   "metadata": {},
   "outputs": [
    {
     "data": {
      "text/plain": [
       "51.0"
      ]
     },
     "execution_count": 29,
     "metadata": {},
     "output_type": "execute_result"
    }
   ],
   "source": [
    "mean(num_friends)"
   ]
  },
  {
   "cell_type": "code",
   "execution_count": 51,
   "id": "f3fee630",
   "metadata": {
    "scrolled": true
   },
   "outputs": [],
   "source": [
    "# Even & odd cases\n",
    "\n",
    "def _median_odd(xs: List[float]) -> float:\n",
    "    return sorted(xs)[len(xs)] // 2\n",
    "\n",
    "def _median_even(xs: List[float]) -> float:\n",
    "    sorted_xs = sorted(xs)\n",
    "    hi_midpoint = len(xs) // 2\n",
    "    return (sorted_xs[hi_midpoint - 1] + sorted_xs[hi_midpoint]) / 2\n",
    "\n",
    "def median(v: List[float]) -> float:\n",
    "    return _median_even(v) if len(v) % 2 == 0 else _median_odd(v)\n",
    "\n",
    "assert median([1, 10, 2, 9, 5]) == 5\n",
    "assert median([1, 9, 2, 10]) == (2 + 9) / 2"
   ]
  },
  {
   "cell_type": "code",
   "execution_count": 39,
   "id": "7555ab83",
   "metadata": {},
   "outputs": [],
   "source": [
    "print(median(num_friends))"
   ]
  },
  {
   "cell_type": "code",
   "execution_count": 41,
   "id": "bceba7f2",
   "metadata": {},
   "outputs": [],
   "source": [
    "def quantile(xs: List[float], p:float) -> float:\n",
    "    p_index = int(p * len(xs))\n",
    "    return sorted(xs)[p_index]\n",
    "\n",
    "assert quantile(num_friends, 0.10) == 1\n",
    "assert quantile(num_friends, 0.25) == 3\n",
    "assert quantile(num_friends, 0.75) == 9\n",
    "assert quantile(num_friends, 0.90) == 13"
   ]
  },
  {
   "cell_type": "code",
   "execution_count": 46,
   "id": "7a030749",
   "metadata": {
    "scrolled": true
   },
   "outputs": [],
   "source": [
    "def mode(x: List[float]) -> List[float]:\n",
    "    counts = Counter(x)\n",
    "    max_count = max(counts.values())\n",
    "    return [x_i for x_i, count in counts.items()\n",
    "           if count == max_count]\n",
    "\n",
    "assert set(mode(num_friends)) == {1, 6}"
   ]
  },
  {
   "cell_type": "markdown",
   "id": "ea235ebd",
   "metadata": {},
   "source": [
    "### Dispersion"
   ]
  },
  {
   "cell_type": "code",
   "execution_count": 49,
   "id": "cb485a24",
   "metadata": {},
   "outputs": [],
   "source": [
    "def data_range(xs: List[float]) -> float:\n",
    "    return max(xs) - min(xs)\n",
    "\n",
    "assert data_range(num_friends)"
   ]
  },
  {
   "cell_type": "code",
   "execution_count": 62,
   "id": "d15d4d23",
   "metadata": {},
   "outputs": [],
   "source": [
    "from linear_algebra import sum_of_square"
   ]
  },
  {
   "cell_type": "code",
   "execution_count": 63,
   "id": "4e3cc63f",
   "metadata": {},
   "outputs": [],
   "source": [
    "def de_mean(xs: List[float]) -> List[float]:\n",
    "    x_bar = mean(xs)\n",
    "    return [ x - x_bar for x in xs]\n",
    "\n",
    "def variance(xs: List[float]) -> float:\n",
    "    assert len(xs) >= 2,\n",
    "    \n",
    "    n = len(xs)\n",
    "    deviations = de_mean(xs)\n",
    "    return sum_of_squares(deviation) / (n - 1)\n",
    "\n",
    "assert 81.54 < variance(num_friends) < 81.55"
   ]
  },
  {
   "cell_type": "code",
   "execution_count": 66,
   "id": "ed2d63b0",
   "metadata": {},
   "outputs": [],
   "source": [
    "def standard_deviation(xs: List[float]) -> float:\n",
    "    return math.sqrt(variance(xs))\n",
    "\n",
    "assert 9.02 < standard_deviation(num_friends) < 9.04"
   ]
  },
  {
   "cell_type": "code",
   "execution_count": 67,
   "id": "8241ef88",
   "metadata": {},
   "outputs": [],
   "source": [
    "def interquantile_range(xs: List[float]) -> float:\n",
    "    return quantile(xs, 0.75) - quantile(xs, 0.25)\n",
    "\n",
    "assert interquantile_range(num_friends) == 6"
   ]
  },
  {
   "cell_type": "code",
   "execution_count": 68,
   "id": "81863646",
   "metadata": {},
   "outputs": [],
   "source": [
    "from scratch.linear_algebra import dot\n",
    "\n",
    "def covariance(xs: List[flaot], ys: List[float]) -> float:\n",
    "    assert len(xs) == len(ys),\n",
    "    return dot(de_mean(xs), de_mean(ys)) / (len(xs) - 1)\n",
    "\n",
    "assert 22.42 < covariance(num_friends, daily_minutes) < 22.43\n",
    "assert 22.42 / 60 < covariance(num_friends, daily_hours) < 22.43 / 60"
   ]
  },
  {
   "cell_type": "code",
   "execution_count": 71,
   "id": "9f8d357e",
   "metadata": {},
   "outputs": [],
   "source": [
    "def correlation(xs: List[float], ys: List[float]) -> float:\n",
    "    stdev_x = stardard_deviation(xs)\n",
    "    stdev_y = stardard_deviation(ys)\n",
    "    if stdev_x > 0 and stdev_y > 0:\n",
    "        return covariance(xs, ys) / stdev_x / stdev_y\n",
    "    else:\n",
    "        return 0\n",
    "    \n",
    "assert 0.24 < correlation(num_friends, daily_minutes) < 0.25\n",
    "assert 0.24 / 60 < correlation(num_friends, daily_hours) < 0.25"
   ]
  },
  {
   "cell_type": "code",
   "execution_count": 72,
   "id": "62d933f1",
   "metadata": {},
   "outputs": [],
   "source": [
    "outlier = num_friends.index(100)\n",
    "\n",
    "num_friends_good = [x\n",
    "                    for i, x in enumerate(num_friends)\n",
    "                    if i !=outlier\n",
    "                   ]\n",
    "\n",
    "daily_minutes_good = [x\n",
    "                    for i, x in enumerate(daily_minutes)\n",
    "                    if i !=outlier\n",
    "                   ]\n",
    "\n",
    "daily_hours_good = [dm / 60 for dm in daily_minutes_good]\n",
    "\n",
    "assert 0.57 < correlation(num_friends_good, daily_minutes_good) < 0.58\n",
    "assert 0.57 < correlation(num_friends_good, daily_minutes_good) < 0.58"
   ]
  },
  {
   "cell_type": "markdown",
   "id": "61beabfd",
   "metadata": {},
   "source": [
    "### Simpson's Paradox"
   ]
  },
  {
   "cell_type": "code",
   "execution_count": null,
   "id": "9c25911a",
   "metadata": {},
   "outputs": [],
   "source": []
  }
 ],
 "metadata": {
  "kernelspec": {
   "display_name": "Python 3 (ipykernel)",
   "language": "python",
   "name": "python3"
  },
  "language_info": {
   "codemirror_mode": {
    "name": "ipython",
    "version": 3
   },
   "file_extension": ".py",
   "mimetype": "text/x-python",
   "name": "python",
   "nbconvert_exporter": "python",
   "pygments_lexer": "ipython3",
   "version": "3.9.16"
  }
 },
 "nbformat": 4,
 "nbformat_minor": 5
}
