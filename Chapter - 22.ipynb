{
 "cells": [
  {
   "cell_type": "markdown",
   "id": "130bd880",
   "metadata": {},
   "source": [
    "# Chapter 22 - Network Analysis"
   ]
  },
  {
   "cell_type": "markdown",
   "id": "6304de8b",
   "metadata": {},
   "source": [
    "### Import Libraries"
   ]
  },
  {
   "cell_type": "code",
   "execution_count": 1,
   "id": "c1aa5d5f",
   "metadata": {},
   "outputs": [],
   "source": [
    "import numpy as np\n",
    "import pandas as pd\n",
    "import matplotlib.pyplot as plt\n",
    "import math\n",
    "from typing import NamedTuple, Dict, List, Tuple, Callable\n",
    "import random\n",
    "import tqdm\n",
    "from collections import Counter\n",
    "from collections import deque"
   ]
  },
  {
   "cell_type": "markdown",
   "id": "f8ca98a3",
   "metadata": {},
   "source": [
    "### Betweenness Centrality"
   ]
  },
  {
   "cell_type": "code",
   "execution_count": 2,
   "id": "20bcb61d",
   "metadata": {},
   "outputs": [],
   "source": [
    "class User(NamedTuple):\n",
    "    id: int\n",
    "    name: str\n",
    "\n",
    "users = [User(0, \"Hero\"), User(1, \"Dunn\"), User(2, \"Sue\"), User(3, \"Chi\"),\n",
    "         User(4, \"Thor\"), User(5, \"Clive\"), User(6, \"Hicks\"),\n",
    "         User(7, \"Devin\"), User(8, \"Kate\"), User(9, \"Klein\")]"
   ]
  },
  {
   "cell_type": "code",
   "execution_count": 3,
   "id": "f02dfb64",
   "metadata": {},
   "outputs": [],
   "source": [
    "friend_pairs = [(0, 1), (0, 2), (1, 2), (1, 3), (2, 3), (3, 4),\n",
    "                (4, 5), (5, 6), (5, 7), (6, 8), (7, 8), (8, 9)]"
   ]
  },
  {
   "cell_type": "code",
   "execution_count": 4,
   "id": "da0584cf",
   "metadata": {},
   "outputs": [],
   "source": [
    "Friendships = Dict[int, List[int]]\n",
    "\n",
    "friendships: Friendships = {user.id: [] for user in users}\n",
    "\n",
    "for i, j in friend_pairs:\n",
    "    friendships[i].append(j)\n",
    "    friendships[j].append(i)\n",
    "\n",
    "assert friendships[4] == [3, 5]\n",
    "assert friendships[8] == [6, 7, 9]"
   ]
  },
  {
   "cell_type": "code",
   "execution_count": 5,
   "id": "d4f31d3c",
   "metadata": {},
   "outputs": [],
   "source": [
    "Path = List[int]\n",
    "\n",
    "def shortest_paths_from(from_user_id: int,\n",
    "                        friendships: Friendships) -> Dict[int, List[Path]]:\n",
    "    # A dictionary from \"user_id\" to *all* shortest paths to that user\n",
    "    shortest_paths_to: Dict[int, List[Path]] = {from_user_id: [[]]}\n",
    "\n",
    "    # A queue of (previous user, next user) that we need to check.\n",
    "    # Starts out with all pairs (from_user, friend_of_from_user)\n",
    "    frontier = deque((from_user_id, friend_id)\n",
    "                     for friend_id in friendships[from_user_id])\n",
    "\n",
    "    # Keep going until we empty the queue.\n",
    "    while frontier:\n",
    "        # Remove the pair that's next in the queue.\n",
    "        prev_user_id, user_id = frontier.popleft()\n",
    "\n",
    "        # Because of the way we're adding to the queue,\n",
    "        # necessarily we already know some shortest paths to prev_user\n",
    "        paths_to_prev_user = shortest_paths_to[prev_user_id]\n",
    "        new_paths_to_user = [path + [user_id] for path in paths_to_prev_user]\n",
    "\n",
    "        # It's possible we already know a shortest path to user_id.\n",
    "        old_paths_to_user = shortest_paths_to.get(user_id, [])\n",
    "\n",
    "        # What's the shortest path to here that we've seen so far?\n",
    "        if old_paths_to_user:\n",
    "            min_path_length = len(old_paths_to_user[0])\n",
    "        else:\n",
    "            min_path_length = float('inf')\n",
    "\n",
    "        # Only keep paths that aren't too long and are actually new\n",
    "        new_paths_to_user = [path\n",
    "                             for path in new_paths_to_user\n",
    "                             if len(path) <= min_path_length\n",
    "                             and path not in old_paths_to_user]\n",
    "\n",
    "        shortest_paths_to[user_id] = old_paths_to_user + new_paths_to_user\n",
    "\n",
    "        # Add never-seen neighbors to the frontier\n",
    "        frontier.extend((user_id, friend_id)\n",
    "                        for friend_id in friendships[user_id]\n",
    "                        if friend_id not in shortest_paths_to)\n",
    "\n",
    "    return shortest_paths_to"
   ]
  },
  {
   "cell_type": "code",
   "execution_count": 6,
   "id": "853ee38b",
   "metadata": {},
   "outputs": [],
   "source": [
    "# For each from_user, for each to_user, a list of shortest paths.\n",
    "shortest_paths = {user.id: shortest_paths_from(user.id, friendships)\n",
    "                  for user in users}\n",
    "\n",
    "betweenness_centrality = {user.id: 0.0 for user in users}\n",
    "\n",
    "for source in users:\n",
    "    for target_id, paths in shortest_paths[source.id].items():\n",
    "        if source.id < target_id:      # don't double count\n",
    "            num_paths = len(paths)     # how many shortest paths?\n",
    "            contrib = 1 / num_paths    # contribution to centrality\n",
    "            for path in paths:\n",
    "                for between_id in path:\n",
    "                    if between_id not in [source.id, target_id]:\n",
    "                        betweenness_centrality[between_id] += contrib"
   ]
  },
  {
   "cell_type": "code",
   "execution_count": 7,
   "id": "2b7d4d8c",
   "metadata": {},
   "outputs": [],
   "source": [
    "def farness(user_id: int) -> float:\n",
    "    \"\"\"the sum of the lengths of the shortest paths to each other user\"\"\"\n",
    "    return sum(len(paths[0])\n",
    "               for paths in shortest_paths[user_id].values())\n",
    "\n",
    "closeness_centrality = {user.id: 1 / farness(user.id) for user in users}"
   ]
  },
  {
   "cell_type": "markdown",
   "id": "aff324f6",
   "metadata": {},
   "source": [
    "### Eigenvector Centrality"
   ]
  },
  {
   "cell_type": "markdown",
   "id": "d396bace",
   "metadata": {},
   "source": [
    "#### Matrix Manipulation"
   ]
  },
  {
   "cell_type": "code",
   "execution_count": 8,
   "id": "df818ff4",
   "metadata": {},
   "outputs": [],
   "source": [
    "Matrix = List[List[float]]\n",
    "\n",
    "A = [[1, 2, 3],  # A has 2 rows and 3 columns\n",
    "     [4, 5, 6]]\n",
    "\n",
    "B = [[1, 2],     # B has 3 rows and 2 columns\n",
    "     [3, 4],\n",
    "     [5, 6]]"
   ]
  },
  {
   "cell_type": "code",
   "execution_count": 9,
   "id": "03a80048",
   "metadata": {},
   "outputs": [],
   "source": [
    "def shape(A: Matrix) -> Tuple[int, int]:\n",
    "    \"\"\"Returns (# of rows of A, # of columns of A)\"\"\"\n",
    "    num_rows = len(A)\n",
    "    num_cols = len(A[0]) if A else 0   # number of elements in first row\n",
    "    return num_rows, num_cols\n",
    "\n",
    "\n",
    "def make_matrix(num_rows: int,\n",
    "                num_cols: int,\n",
    "                entry_fn: Callable[[int, int], float]) -> Matrix:\n",
    "    \"\"\"\n",
    "    Returns a num_rows x num_cols matrix\n",
    "    whose (i,j)-th entry is entry_fn(i, j)\n",
    "    \"\"\"\n",
    "    return [[entry_fn(i, j)             # given i, create a list\n",
    "             for j in range(num_cols)]  #   [entry_fn(i, 0), ... ]\n",
    "            for i in range(num_rows)]   # create one list for each i"
   ]
  },
  {
   "cell_type": "code",
   "execution_count": 10,
   "id": "a5d35bff",
   "metadata": {},
   "outputs": [],
   "source": [
    "def matrix_times_matrix(m1: Matrix, m2: Matrix) -> Matrix:\n",
    "    nr1, nc1 = shape(m1)\n",
    "    nr2, nc2 = shape(m2)\n",
    "    assert nc1 == nr2, \"must have (# of columns in m1) == (# of rows in m2)\"\n",
    "\n",
    "    def entry_fn(i: int, j: int) -> float:\n",
    "        \"\"\"dot product of i-th row of m1 with j-th column of m2\"\"\"\n",
    "        return sum(m1[i][k] * m2[k][j] for k in range(nc1))\n",
    "\n",
    "    return make_matrix(nr1, nc2, entry_fn)"
   ]
  },
  {
   "cell_type": "code",
   "execution_count": 11,
   "id": "b3e0295c",
   "metadata": {},
   "outputs": [],
   "source": [
    "Vector = List[float]\n",
    "\n",
    "def dot(v: Vector, w: Vector) -> float:\n",
    "    \"\"\"Computes v_1 * w_1 + ... + v_n * w_n\"\"\"\n",
    "    assert len(v) == len(w), \"vectors must be same length\"\n",
    "\n",
    "    return sum(v_i * w_i for v_i, w_i in zip(v, w))"
   ]
  },
  {
   "cell_type": "code",
   "execution_count": 12,
   "id": "54e5ecc6",
   "metadata": {},
   "outputs": [],
   "source": [
    "def matrix_times_vector(m: Matrix, v: Vector) -> Vector:\n",
    "    nr, nc = shape(m)\n",
    "    n = len(v)\n",
    "    assert nc == n, \"must have (# of cols in m) == (# of elements in v)\"\n",
    "\n",
    "    return [dot(row, v) for row in m]  # output has length nr"
   ]
  },
  {
   "cell_type": "code",
   "execution_count": 13,
   "id": "f3eed2d8",
   "metadata": {},
   "outputs": [],
   "source": [
    "def sum_of_squares(v: Vector) -> float:\n",
    "    \"\"\"Returns v_1 * v_1 + ... + v_n * v_n\"\"\"\n",
    "    return dot(v, v)\n",
    "\n",
    "assert sum_of_squares([1, 2, 3]) == 14  # 1 * 1 + 2 * 2 + 3 * 3\n",
    "\n",
    "def magnitude(v: Vector) -> float:\n",
    "    \"\"\"Returns the magnitude (or length) of v\"\"\"\n",
    "    return math.sqrt(sum_of_squares(v))   # math.sqrt is square root function\n",
    "\n",
    "def distance(v: Vector, w: Vector) -> float:\n",
    "    \"\"\"Computes the distance between v and w\"\"\"\n",
    "    return math.sqrt(squared_distance(v, w))"
   ]
  },
  {
   "cell_type": "code",
   "execution_count": 14,
   "id": "0489522f",
   "metadata": {},
   "outputs": [],
   "source": [
    "def find_eigenvector(m: Matrix,\n",
    "                     tolerance: float = 0.00001) -> Tuple[Vector, float]:\n",
    "    guess = [random.random() for _ in m]\n",
    "\n",
    "    while True:\n",
    "        result = matrix_times_vector(m, guess)    # transform guess\n",
    "        norm = magnitude(result)                  # compute norm\n",
    "        next_guess = [x / norm for x in result]   # rescale\n",
    "\n",
    "        if distance(guess, next_guess) < tolerance:\n",
    "            # convergence so return (eigenvector, eigenvalue)\n",
    "            return next_guess, norm\n",
    "\n",
    "        guess = next_guess"
   ]
  },
  {
   "cell_type": "markdown",
   "id": "12bae1eb",
   "metadata": {},
   "source": [
    "### Centrality"
   ]
  },
  {
   "cell_type": "code",
   "execution_count": 15,
   "id": "b4210d15",
   "metadata": {},
   "outputs": [],
   "source": [
    "# def entry(i: int, j: int):\n",
    "#     return 1 if (i, j) in friend_pairs or (j, i) in friend_pairs else 0\n",
    "\n",
    "# n = len(users)\n",
    "# adjacency_matrix = make_matrix(n, n, entry_fn)"
   ]
  },
  {
   "cell_type": "markdown",
   "id": "3950eb31",
   "metadata": {},
   "source": [
    "### Directed Graphs & PageRank"
   ]
  },
  {
   "cell_type": "code",
   "execution_count": 16,
   "id": "32034f49",
   "metadata": {},
   "outputs": [],
   "source": [
    "endorsements = [(0, 1), (1, 0), (0, 2), (2, 0), (1, 2),\n",
    "                (2, 1), (1, 3), (2, 3), (3, 4), (5, 4),\n",
    "                (5, 6), (7, 5), (6, 8), (8, 7), (8, 9)]"
   ]
  },
  {
   "cell_type": "code",
   "execution_count": 17,
   "id": "f4f49b08",
   "metadata": {},
   "outputs": [],
   "source": [
    "endorsement_counts = Counter(target for source, target in endorsements)"
   ]
  },
  {
   "cell_type": "code",
   "execution_count": 18,
   "id": "a5025d41",
   "metadata": {},
   "outputs": [
    {
     "name": "stderr",
     "output_type": "stream",
     "text": [
      "100%|██████████████████████████████████████| 100/100 [00:00<00:00, 60866.41it/s]\n"
     ]
    }
   ],
   "source": [
    "def page_rank(users: List[User],\n",
    "              endorsements: List[Tuple[int, int]],\n",
    "              damping: float = 0.85,\n",
    "              num_iters: int = 100) -> Dict[int, float]:\n",
    "    # Compute how many people each person endorses\n",
    "    outgoing_counts = Counter(target for source, target in endorsements)\n",
    "\n",
    "    # Initially distribute PageRank evenly\n",
    "    num_users = len(users)\n",
    "    pr = {user.id : 1 / num_users for user in users}\n",
    "\n",
    "    # Small fraction of PageRank that each node gets each iteration\n",
    "    base_pr = (1 - damping) / num_users\n",
    "\n",
    "    for iter in tqdm.trange(num_iters):\n",
    "        next_pr = {user.id : base_pr for user in users}  # start with base_pr\n",
    "\n",
    "        for source, target in endorsements:\n",
    "            # Add damped fraction of source pr to target\n",
    "            next_pr[target] += damping * pr[source] / outgoing_counts[source]\n",
    "\n",
    "        pr = next_pr\n",
    "\n",
    "    return pr\n",
    "\n",
    "pr = page_rank(users, endorsements)\n",
    "\n",
    "# Thor (user_id 4) has higher page rank than anyone else\n",
    "assert pr[4] > max(page_rank\n",
    "                   for user_id, page_rank in pr.items()\n",
    "                   if user_id != 4)\n"
   ]
  },
  {
   "cell_type": "code",
   "execution_count": null,
   "id": "b2eda0d8",
   "metadata": {},
   "outputs": [],
   "source": []
  }
 ],
 "metadata": {
  "kernelspec": {
   "display_name": "Python 3 (ipykernel)",
   "language": "python",
   "name": "python3"
  },
  "language_info": {
   "codemirror_mode": {
    "name": "ipython",
    "version": 3
   },
   "file_extension": ".py",
   "mimetype": "text/x-python",
   "name": "python",
   "nbconvert_exporter": "python",
   "pygments_lexer": "ipython3",
   "version": "3.9.13"
  }
 },
 "nbformat": 4,
 "nbformat_minor": 5
}
