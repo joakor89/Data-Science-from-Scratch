{
 "cells": [
  {
   "cell_type": "markdown",
   "id": "da6465ca",
   "metadata": {},
   "source": [
    "# Chapter 2 - A Crash Course in Python"
   ]
  },
  {
   "cell_type": "code",
   "execution_count": 1,
   "id": "b142f893",
   "metadata": {},
   "outputs": [],
   "source": [
    "import pandas as pd\n",
    "import numpy as np\n",
    "import matplotlib.pyplot as plt"
   ]
  },
  {
   "cell_type": "markdown",
   "id": "ce421809",
   "metadata": {},
   "source": [
    "### Whitespace Formatting"
   ]
  },
  {
   "cell_type": "code",
   "execution_count": 2,
   "id": "5cf45771",
   "metadata": {},
   "outputs": [
    {
     "name": "stdout",
     "output_type": "stream",
     "text": [
      "1\n",
      "1\n",
      "2\n",
      "2\n",
      "3\n",
      "3\n",
      "4\n",
      "4\n",
      "5\n",
      "5\n",
      "6\n",
      "1\n",
      "2\n",
      "1\n",
      "3\n",
      "2\n",
      "4\n",
      "3\n",
      "5\n",
      "4\n",
      "6\n",
      "5\n",
      "7\n",
      "2\n",
      "3\n",
      "1\n",
      "4\n",
      "2\n",
      "5\n",
      "3\n",
      "6\n",
      "4\n",
      "7\n",
      "5\n",
      "8\n",
      "3\n",
      "4\n",
      "1\n",
      "5\n",
      "2\n",
      "6\n",
      "3\n",
      "7\n",
      "4\n",
      "8\n",
      "5\n",
      "9\n",
      "4\n",
      "5\n",
      "1\n",
      "6\n",
      "2\n",
      "7\n",
      "3\n",
      "8\n",
      "4\n",
      "9\n",
      "5\n",
      "10\n",
      "5\n",
      "Done looping\n"
     ]
    }
   ],
   "source": [
    "for i in [1, 2, 3, 4, 5]:\n",
    "    print(i)\n",
    "    for j in [1, 2, 3, 4, 5]:\n",
    "        print(j)\n",
    "        print(i + j)\n",
    "    print(i)\n",
    "print(\"Done looping\")"
   ]
  },
  {
   "cell_type": "code",
   "execution_count": 3,
   "id": "b9f295d3",
   "metadata": {},
   "outputs": [],
   "source": [
    "long_winded_computation = (1, + 2 + 3 + 4 + 5 + 6 + 7 + 8 + 9 + 10 + 11 + 12 + 13 + 14 + 15 + 16 +\n",
    "                          17 + 18 + 19 + 20)"
   ]
  },
  {
   "cell_type": "code",
   "execution_count": 4,
   "id": "2eb637b5",
   "metadata": {},
   "outputs": [],
   "source": [
    "list_of_lists = [[1, 2, 3], [4, 5, 6], [7, 8, 9]]"
   ]
  },
  {
   "cell_type": "code",
   "execution_count": 5,
   "id": "cdb7d02f",
   "metadata": {},
   "outputs": [],
   "source": [
    "easier_to_read_list_of_lists = [[1, 2, 3],\n",
    "                                [4, 5, 6],\n",
    "                                [7, 8, 9]]"
   ]
  },
  {
   "cell_type": "code",
   "execution_count": 6,
   "id": "37471144",
   "metadata": {},
   "outputs": [],
   "source": [
    "two_plus_three = 2 + \\\n",
    "                 3"
   ]
  },
  {
   "cell_type": "code",
   "execution_count": 7,
   "id": "cced8bf2",
   "metadata": {},
   "outputs": [
    {
     "name": "stdout",
     "output_type": "stream",
     "text": [
      "1\n",
      "2\n",
      "3\n",
      "4\n",
      "5\n"
     ]
    }
   ],
   "source": [
    "for i in [1, 2, 3, 4, 5]:\n",
    "    print(i)"
   ]
  },
  {
   "cell_type": "markdown",
   "id": "0cdcf3c4",
   "metadata": {},
   "source": [
    "### Modules"
   ]
  },
  {
   "cell_type": "code",
   "execution_count": 3,
   "id": "d6faaa70",
   "metadata": {},
   "outputs": [],
   "source": [
    "import re as regex"
   ]
  },
  {
   "cell_type": "code",
   "execution_count": 9,
   "id": "0ec74a7b",
   "metadata": {},
   "outputs": [],
   "source": [
    "# my_regex = re.compile(\"[0-9]+\", regex.I)"
   ]
  },
  {
   "cell_type": "code",
   "execution_count": 10,
   "id": "3e9bd09a",
   "metadata": {},
   "outputs": [],
   "source": [
    "# plt.plot(...)\n",
    "# plt.show()"
   ]
  },
  {
   "cell_type": "code",
   "execution_count": 11,
   "id": "9c598cd6",
   "metadata": {},
   "outputs": [],
   "source": [
    "from collections import defaultdict, Counter\n",
    "lookup = defaultdict(int)\n",
    "my_counter = Counter()"
   ]
  },
  {
   "cell_type": "markdown",
   "id": "06196516",
   "metadata": {},
   "source": [
    "### Functions"
   ]
  },
  {
   "cell_type": "code",
   "execution_count": 12,
   "id": "5a55744d",
   "metadata": {},
   "outputs": [],
   "source": [
    "def double(x):\n",
    "    return x * 2"
   ]
  },
  {
   "cell_type": "code",
   "execution_count": 13,
   "id": "641a6a82",
   "metadata": {},
   "outputs": [
    {
     "data": {
      "text/plain": [
       "6"
      ]
     },
     "execution_count": 13,
     "metadata": {},
     "output_type": "execute_result"
    }
   ],
   "source": [
    "double(3)"
   ]
  },
  {
   "cell_type": "code",
   "execution_count": 14,
   "id": "61494504",
   "metadata": {},
   "outputs": [],
   "source": [
    "def apply_to_one(f):\n",
    "    return f(1)"
   ]
  },
  {
   "cell_type": "code",
   "execution_count": 15,
   "id": "8ea126be",
   "metadata": {},
   "outputs": [],
   "source": [
    "my_double = double\n",
    "x = apply_to_one(my_double)"
   ]
  },
  {
   "cell_type": "code",
   "execution_count": 16,
   "id": "a336fb7c",
   "metadata": {},
   "outputs": [],
   "source": [
    "y = apply_to_one(lambda x: x + 4)"
   ]
  },
  {
   "cell_type": "code",
   "execution_count": 17,
   "id": "86916d4c",
   "metadata": {},
   "outputs": [
    {
     "data": {
      "text/plain": [
       "5"
      ]
     },
     "execution_count": 17,
     "metadata": {},
     "output_type": "execute_result"
    }
   ],
   "source": [
    "y"
   ]
  },
  {
   "cell_type": "code",
   "execution_count": 18,
   "id": "b685c3ef",
   "metadata": {},
   "outputs": [],
   "source": [
    "# another_double = lambda x: 2 * x -> DON'T DO THIS"
   ]
  },
  {
   "cell_type": "code",
   "execution_count": 19,
   "id": "fb367a17",
   "metadata": {},
   "outputs": [],
   "source": [
    "def another_double(x):\n",
    "    return 2 * x"
   ]
  },
  {
   "cell_type": "code",
   "execution_count": 20,
   "id": "31d8526b",
   "metadata": {},
   "outputs": [
    {
     "data": {
      "text/plain": [
       "8"
      ]
     },
     "execution_count": 20,
     "metadata": {},
     "output_type": "execute_result"
    }
   ],
   "source": [
    "another_double(4)"
   ]
  },
  {
   "cell_type": "code",
   "execution_count": 21,
   "id": "59fec0cb",
   "metadata": {},
   "outputs": [],
   "source": [
    "def my_print(message = \"my default message\"):\n",
    "    print(message)"
   ]
  },
  {
   "cell_type": "code",
   "execution_count": 22,
   "id": "60d38025",
   "metadata": {},
   "outputs": [
    {
     "name": "stdout",
     "output_type": "stream",
     "text": [
      "my default message\n"
     ]
    }
   ],
   "source": [
    "my_print()"
   ]
  },
  {
   "cell_type": "code",
   "execution_count": 23,
   "id": "b035dc3d",
   "metadata": {},
   "outputs": [
    {
     "name": "stdout",
     "output_type": "stream",
     "text": [
      "Hello\n"
     ]
    }
   ],
   "source": [
    "my_print(\"Hello\")"
   ]
  },
  {
   "cell_type": "code",
   "execution_count": 24,
   "id": "a6477b7d",
   "metadata": {},
   "outputs": [],
   "source": [
    "def full_name(first = \"What's-his-name\", last = \"Soemthing\"):\n",
    "    return first + \" \" + last"
   ]
  },
  {
   "cell_type": "code",
   "execution_count": 25,
   "id": "e966eb22",
   "metadata": {},
   "outputs": [
    {
     "data": {
      "text/plain": [
       "'Joaquin Romero Flores'"
      ]
     },
     "execution_count": 25,
     "metadata": {},
     "output_type": "execute_result"
    }
   ],
   "source": [
    "full_name(\"Joaquin\", \"Romero Flores\")"
   ]
  },
  {
   "cell_type": "markdown",
   "id": "ff8cd272",
   "metadata": {},
   "source": [
    "### Strings"
   ]
  },
  {
   "cell_type": "code",
   "execution_count": 26,
   "id": "736bcda7",
   "metadata": {},
   "outputs": [],
   "source": [
    "single_quoted_string = 'data science'\n",
    "double_quoted_string = \"data science\""
   ]
  },
  {
   "cell_type": "code",
   "execution_count": 27,
   "id": "45baba30",
   "metadata": {},
   "outputs": [
    {
     "data": {
      "text/plain": [
       "1"
      ]
     },
     "execution_count": 27,
     "metadata": {},
     "output_type": "execute_result"
    }
   ],
   "source": [
    "tab_string = \"\\t\"\n",
    "len(tab_string)"
   ]
  },
  {
   "cell_type": "code",
   "execution_count": 28,
   "id": "fb7f9ea1",
   "metadata": {},
   "outputs": [
    {
     "data": {
      "text/plain": [
       "2"
      ]
     },
     "execution_count": 28,
     "metadata": {},
     "output_type": "execute_result"
    }
   ],
   "source": [
    "not_tab_string = r\"\\t\"\n",
    "len(not_tab_string)"
   ]
  },
  {
   "cell_type": "code",
   "execution_count": 29,
   "id": "3384aae5",
   "metadata": {},
   "outputs": [],
   "source": [
    "multi_line_string = \"\"\" This is the first line\n",
    "abd this is the second line\n",
    "and this is the third line\"\"\""
   ]
  },
  {
   "cell_type": "code",
   "execution_count": 30,
   "id": "743d37d7",
   "metadata": {},
   "outputs": [],
   "source": [
    "first_name = \"Joaquin\"\n",
    "last_name = \"Romero\""
   ]
  },
  {
   "cell_type": "code",
   "execution_count": 31,
   "id": "906d965d",
   "metadata": {},
   "outputs": [],
   "source": [
    "full_name1 = first_name + \" \" + last_name\n",
    "full_name2 = \"{0} {1}\".format(first_name, last_name)"
   ]
  },
  {
   "cell_type": "code",
   "execution_count": 32,
   "id": "963b6c04",
   "metadata": {},
   "outputs": [
    {
     "data": {
      "text/plain": [
       "'Joaquin Romero'"
      ]
     },
     "execution_count": 32,
     "metadata": {},
     "output_type": "execute_result"
    }
   ],
   "source": [
    "full_name3 = f\"{first_name} {last_name}\"\n",
    "full_name3"
   ]
  },
  {
   "cell_type": "markdown",
   "id": "8f90f47e",
   "metadata": {},
   "source": [
    "### Exceptions"
   ]
  },
  {
   "cell_type": "code",
   "execution_count": 33,
   "id": "c3c0c37e",
   "metadata": {},
   "outputs": [
    {
     "name": "stdout",
     "output_type": "stream",
     "text": [
      "Cannot divide by zero\n"
     ]
    }
   ],
   "source": [
    "try:\n",
    "    print(0 / 0)\n",
    "except ZeroDivisionError:\n",
    "    print(\"Cannot divide by zero\")"
   ]
  },
  {
   "cell_type": "markdown",
   "id": "f7ecde64",
   "metadata": {},
   "source": [
    "### List"
   ]
  },
  {
   "cell_type": "code",
   "execution_count": 34,
   "id": "7762bcbe",
   "metadata": {},
   "outputs": [],
   "source": [
    "integer_list = [1, 2, 3]\n",
    "heterogeneous_list = [\"string\", 0.1, True]\n",
    "list_of_lists = [integer_list, heterogeneous_list, []]"
   ]
  },
  {
   "cell_type": "code",
   "execution_count": 35,
   "id": "88cfc897",
   "metadata": {},
   "outputs": [
    {
     "data": {
      "text/plain": [
       "3"
      ]
     },
     "execution_count": 35,
     "metadata": {},
     "output_type": "execute_result"
    }
   ],
   "source": [
    "list_length = len(integer_list)\n",
    "list_length"
   ]
  },
  {
   "cell_type": "code",
   "execution_count": 36,
   "id": "f63b7424",
   "metadata": {},
   "outputs": [
    {
     "data": {
      "text/plain": [
       "6"
      ]
     },
     "execution_count": 36,
     "metadata": {},
     "output_type": "execute_result"
    }
   ],
   "source": [
    "list_sum = sum(integer_list)\n",
    "list_sum"
   ]
  },
  {
   "cell_type": "code",
   "execution_count": 37,
   "id": "012bdc16",
   "metadata": {},
   "outputs": [],
   "source": [
    "x = [0, 1, 2, 3, 4, 5, 6, 7, 8, 9]"
   ]
  },
  {
   "cell_type": "code",
   "execution_count": 38,
   "id": "8e4bd600",
   "metadata": {},
   "outputs": [
    {
     "data": {
      "text/plain": [
       "0"
      ]
     },
     "execution_count": 38,
     "metadata": {},
     "output_type": "execute_result"
    }
   ],
   "source": [
    "zero = x[0]\n",
    "zero"
   ]
  },
  {
   "cell_type": "code",
   "execution_count": 39,
   "id": "f85a2ba5",
   "metadata": {},
   "outputs": [
    {
     "data": {
      "text/plain": [
       "1"
      ]
     },
     "execution_count": 39,
     "metadata": {},
     "output_type": "execute_result"
    }
   ],
   "source": [
    "one = x[1]\n",
    "one"
   ]
  },
  {
   "cell_type": "code",
   "execution_count": 40,
   "id": "89818b22",
   "metadata": {},
   "outputs": [
    {
     "data": {
      "text/plain": [
       "9"
      ]
     },
     "execution_count": 40,
     "metadata": {},
     "output_type": "execute_result"
    }
   ],
   "source": [
    "nine = x[-1]\n",
    "nine"
   ]
  },
  {
   "cell_type": "code",
   "execution_count": 41,
   "id": "893791e1",
   "metadata": {},
   "outputs": [],
   "source": [
    "eight = x[-2]"
   ]
  },
  {
   "cell_type": "code",
   "execution_count": 42,
   "id": "60a99a89",
   "metadata": {},
   "outputs": [],
   "source": [
    "x[0] = -1"
   ]
  },
  {
   "cell_type": "code",
   "execution_count": 43,
   "id": "562ea9a0",
   "metadata": {},
   "outputs": [
    {
     "data": {
      "text/plain": [
       "-1"
      ]
     },
     "execution_count": 43,
     "metadata": {},
     "output_type": "execute_result"
    }
   ],
   "source": [
    "x[0]"
   ]
  },
  {
   "cell_type": "code",
   "execution_count": 44,
   "id": "818100d9",
   "metadata": {},
   "outputs": [
    {
     "data": {
      "text/plain": [
       "[-1, 1, 2]"
      ]
     },
     "execution_count": 44,
     "metadata": {},
     "output_type": "execute_result"
    }
   ],
   "source": [
    "first_three = x[:3]\n",
    "first_three"
   ]
  },
  {
   "cell_type": "code",
   "execution_count": 45,
   "id": "56cef7b7",
   "metadata": {},
   "outputs": [
    {
     "data": {
      "text/plain": [
       "[3, 4, 5, 6, 7, 8, 9]"
      ]
     },
     "execution_count": 45,
     "metadata": {},
     "output_type": "execute_result"
    }
   ],
   "source": [
    "three_to_end = x[3:]\n",
    "three_to_end"
   ]
  },
  {
   "cell_type": "code",
   "execution_count": 46,
   "id": "5707bc2d",
   "metadata": {},
   "outputs": [
    {
     "data": {
      "text/plain": [
       "[1, 2, 3, 4]"
      ]
     },
     "execution_count": 46,
     "metadata": {},
     "output_type": "execute_result"
    }
   ],
   "source": [
    "one_to_four = x[1:5]\n",
    "one_to_four"
   ]
  },
  {
   "cell_type": "code",
   "execution_count": 47,
   "id": "84065907",
   "metadata": {},
   "outputs": [
    {
     "data": {
      "text/plain": [
       "[7, 8, 9]"
      ]
     },
     "execution_count": 47,
     "metadata": {},
     "output_type": "execute_result"
    }
   ],
   "source": [
    "last_three = x[-3:]\n",
    "last_three"
   ]
  },
  {
   "cell_type": "code",
   "execution_count": 48,
   "id": "00f7352c",
   "metadata": {},
   "outputs": [
    {
     "data": {
      "text/plain": [
       "[1, 2, 3, 4, 5, 6, 7, 8]"
      ]
     },
     "execution_count": 48,
     "metadata": {},
     "output_type": "execute_result"
    }
   ],
   "source": [
    "without_first_and_last = x[1:-1]\n",
    "without_first_and_last"
   ]
  },
  {
   "cell_type": "code",
   "execution_count": 49,
   "id": "bfa963bd",
   "metadata": {},
   "outputs": [
    {
     "data": {
      "text/plain": [
       "[-1, 1, 2, 3, 4, 5, 6, 7, 8, 9]"
      ]
     },
     "execution_count": 49,
     "metadata": {},
     "output_type": "execute_result"
    }
   ],
   "source": [
    "copy_of_x = x[:]\n",
    "copy_of_x"
   ]
  },
  {
   "cell_type": "code",
   "execution_count": 50,
   "id": "e09ee90b",
   "metadata": {},
   "outputs": [],
   "source": [
    "every_three = x[::3]"
   ]
  },
  {
   "cell_type": "code",
   "execution_count": 51,
   "id": "7b434dca",
   "metadata": {},
   "outputs": [
    {
     "data": {
      "text/plain": [
       "[5, 4, 3]"
      ]
     },
     "execution_count": 51,
     "metadata": {},
     "output_type": "execute_result"
    }
   ],
   "source": [
    "five_to_three = x[5:2:-1]\n",
    "five_to_three"
   ]
  },
  {
   "cell_type": "code",
   "execution_count": 52,
   "id": "0c01860b",
   "metadata": {},
   "outputs": [
    {
     "data": {
      "text/plain": [
       "True"
      ]
     },
     "execution_count": 52,
     "metadata": {},
     "output_type": "execute_result"
    }
   ],
   "source": [
    "1 in [1, 2, 3]"
   ]
  },
  {
   "cell_type": "code",
   "execution_count": 53,
   "id": "fa0061c1",
   "metadata": {},
   "outputs": [
    {
     "data": {
      "text/plain": [
       "False"
      ]
     },
     "execution_count": 53,
     "metadata": {},
     "output_type": "execute_result"
    }
   ],
   "source": [
    "0 in [1, 2, 3]"
   ]
  },
  {
   "cell_type": "code",
   "execution_count": 54,
   "id": "355a67da",
   "metadata": {},
   "outputs": [],
   "source": [
    "x = [1, 2, 3]\n",
    "x.extend([4, 5, 6])"
   ]
  },
  {
   "cell_type": "code",
   "execution_count": 55,
   "id": "297cd3db",
   "metadata": {},
   "outputs": [],
   "source": [
    "x = [1, 2, 3]\n",
    "y = x + [4, 5, 6]"
   ]
  },
  {
   "cell_type": "code",
   "execution_count": 56,
   "id": "42f036af",
   "metadata": {},
   "outputs": [
    {
     "data": {
      "text/plain": [
       "[1, 2, 3, 4, 5, 6]"
      ]
     },
     "execution_count": 56,
     "metadata": {},
     "output_type": "execute_result"
    }
   ],
   "source": [
    "y"
   ]
  },
  {
   "cell_type": "code",
   "execution_count": 57,
   "id": "0bb84168",
   "metadata": {},
   "outputs": [],
   "source": [
    "x = [1, 2, 3]"
   ]
  },
  {
   "cell_type": "code",
   "execution_count": 58,
   "id": "9959592d",
   "metadata": {},
   "outputs": [],
   "source": [
    "x.append(0)"
   ]
  },
  {
   "cell_type": "code",
   "execution_count": 59,
   "id": "e5b9cbd9",
   "metadata": {},
   "outputs": [
    {
     "data": {
      "text/plain": [
       "0"
      ]
     },
     "execution_count": 59,
     "metadata": {},
     "output_type": "execute_result"
    }
   ],
   "source": [
    "y = x[-1]\n",
    "y"
   ]
  },
  {
   "cell_type": "code",
   "execution_count": 60,
   "id": "dcd6a556",
   "metadata": {},
   "outputs": [
    {
     "data": {
      "text/plain": [
       "4"
      ]
     },
     "execution_count": 60,
     "metadata": {},
     "output_type": "execute_result"
    }
   ],
   "source": [
    "z = len(x)\n",
    "z"
   ]
  },
  {
   "cell_type": "code",
   "execution_count": 61,
   "id": "fd727bcf",
   "metadata": {},
   "outputs": [],
   "source": [
    "x, y = [1, 2]"
   ]
  },
  {
   "cell_type": "code",
   "execution_count": 62,
   "id": "6f2a8a60",
   "metadata": {},
   "outputs": [],
   "source": [
    "_, y = [1, 2]"
   ]
  },
  {
   "cell_type": "markdown",
   "id": "0a7d8fee",
   "metadata": {},
   "source": [
    "### Tuples"
   ]
  },
  {
   "cell_type": "code",
   "execution_count": 63,
   "id": "acfe9c07",
   "metadata": {},
   "outputs": [],
   "source": [
    "my_list = [1, 2]\n",
    "my_tuple = (1, 2)\n",
    "other_tuple = 3, 4"
   ]
  },
  {
   "cell_type": "code",
   "execution_count": 64,
   "id": "a1a399dc",
   "metadata": {},
   "outputs": [],
   "source": [
    "my_list[1] = 3"
   ]
  },
  {
   "cell_type": "code",
   "execution_count": 65,
   "id": "fadca19d",
   "metadata": {},
   "outputs": [
    {
     "name": "stdout",
     "output_type": "stream",
     "text": [
      "cannot modify a tuple\n"
     ]
    }
   ],
   "source": [
    "try:\n",
    "    my_tuple[1] = 3\n",
    "except TypeError:\n",
    "    print(\"cannot modify a tuple\")"
   ]
  },
  {
   "cell_type": "code",
   "execution_count": 66,
   "id": "486354fe",
   "metadata": {},
   "outputs": [],
   "source": [
    "def sum_and_product(x, y):\n",
    "    return (x + y), (x * y)"
   ]
  },
  {
   "cell_type": "code",
   "execution_count": 67,
   "id": "5c0ec199",
   "metadata": {},
   "outputs": [],
   "source": [
    "sp = sum_and_product(2, 3)"
   ]
  },
  {
   "cell_type": "code",
   "execution_count": 68,
   "id": "145007f2",
   "metadata": {},
   "outputs": [],
   "source": [
    "s, p = sum_and_product(5, 10)"
   ]
  },
  {
   "cell_type": "code",
   "execution_count": 69,
   "id": "7acf72fc",
   "metadata": {},
   "outputs": [],
   "source": [
    "x, y = 1, 2\n",
    "x, y = y, x"
   ]
  },
  {
   "cell_type": "markdown",
   "id": "c8abdb7e",
   "metadata": {},
   "source": [
    "### Dictionaries"
   ]
  },
  {
   "cell_type": "code",
   "execution_count": 70,
   "id": "cb76dde8",
   "metadata": {},
   "outputs": [],
   "source": [
    "empty_dict = {}\n",
    "empty_dict2 = dict()\n",
    "grades = {\"Joel\": 80, \"Tim\": 95}"
   ]
  },
  {
   "cell_type": "code",
   "execution_count": 71,
   "id": "cab900c5",
   "metadata": {},
   "outputs": [],
   "source": [
    "joels_grade = grades[\"Joel\"]"
   ]
  },
  {
   "cell_type": "code",
   "execution_count": 72,
   "id": "e4753198",
   "metadata": {},
   "outputs": [
    {
     "name": "stdout",
     "output_type": "stream",
     "text": [
      "No grade for Kate!\n"
     ]
    }
   ],
   "source": [
    "try:\n",
    "    kates_grade = grades[\"Kate\"]\n",
    "except KeyError:\n",
    "    print(\"No grade for Kate!\")"
   ]
  },
  {
   "cell_type": "code",
   "execution_count": 73,
   "id": "9d52f0ac",
   "metadata": {},
   "outputs": [
    {
     "data": {
      "text/plain": [
       "True"
      ]
     },
     "execution_count": 73,
     "metadata": {},
     "output_type": "execute_result"
    }
   ],
   "source": [
    "joel_has_grade = \"Joel\" in grades\n",
    "joel_has_grade"
   ]
  },
  {
   "cell_type": "code",
   "execution_count": 74,
   "id": "9a4055d5",
   "metadata": {},
   "outputs": [
    {
     "data": {
      "text/plain": [
       "False"
      ]
     },
     "execution_count": 74,
     "metadata": {},
     "output_type": "execute_result"
    }
   ],
   "source": [
    "kate_has_grade = \"Kate\" in grades\n",
    "kate_has_grade"
   ]
  },
  {
   "cell_type": "code",
   "execution_count": 75,
   "id": "968ce16d",
   "metadata": {},
   "outputs": [],
   "source": [
    "joels_grade = grades.get(\"Joel\", 0)\n",
    "Kate_grade = grades.get(\"Kate\", 0)\n",
    "no_ones_grade = grades.get(\"No One\")"
   ]
  },
  {
   "cell_type": "code",
   "execution_count": 76,
   "id": "f7faca5c",
   "metadata": {},
   "outputs": [],
   "source": [
    "grades[\"Tim\"] = 99\n",
    "grades[\"kate\"] = 100\n",
    "num_students = len(grades)"
   ]
  },
  {
   "cell_type": "code",
   "execution_count": 77,
   "id": "36e5a0da",
   "metadata": {},
   "outputs": [],
   "source": [
    "tweet = {\n",
    "    \"user\" : \"joelgrus\",\n",
    "    \"text\" : \"Data Science is Awesome\",\n",
    "    \"retweet_count\" : 100,\n",
    "    \"hashtags\" : [\"#data\", '#science', '#datascience', '#awesome', '#yolo']\n",
    "}"
   ]
  },
  {
   "cell_type": "code",
   "execution_count": 78,
   "id": "03673ce7",
   "metadata": {},
   "outputs": [
    {
     "data": {
      "text/plain": [
       "dict_keys(['user', 'text', 'retweet_count', 'hashtags'])"
      ]
     },
     "execution_count": 78,
     "metadata": {},
     "output_type": "execute_result"
    }
   ],
   "source": [
    "tweet_keys = tweet.keys()\n",
    "tweet_keys"
   ]
  },
  {
   "cell_type": "code",
   "execution_count": 79,
   "id": "49b5edac",
   "metadata": {},
   "outputs": [
    {
     "data": {
      "text/plain": [
       "dict_values(['joelgrus', 'Data Science is Awesome', 100, ['#data', '#science', '#datascience', '#awesome', '#yolo']])"
      ]
     },
     "execution_count": 79,
     "metadata": {},
     "output_type": "execute_result"
    }
   ],
   "source": [
    "tweet_values = tweet.values()\n",
    "tweet_values"
   ]
  },
  {
   "cell_type": "code",
   "execution_count": 80,
   "id": "683ce135",
   "metadata": {},
   "outputs": [
    {
     "data": {
      "text/plain": [
       "dict_items([('user', 'joelgrus'), ('text', 'Data Science is Awesome'), ('retweet_count', 100), ('hashtags', ['#data', '#science', '#datascience', '#awesome', '#yolo'])])"
      ]
     },
     "execution_count": 80,
     "metadata": {},
     "output_type": "execute_result"
    }
   ],
   "source": [
    "tweet_items = tweet.items()\n",
    "tweet_items"
   ]
  },
  {
   "cell_type": "markdown",
   "id": "67237ebc",
   "metadata": {},
   "source": [
    "#### defauldict"
   ]
  },
  {
   "cell_type": "code",
   "execution_count": 81,
   "id": "9279a3d8",
   "metadata": {},
   "outputs": [],
   "source": [
    "# word_counts = {}\n",
    "# for word in document:\n",
    "#     if word in word_counts:\n",
    "#         word_counts[word] += 1\n",
    "#     else:\n",
    "#         word_counts[word] = 1"
   ]
  },
  {
   "cell_type": "code",
   "execution_count": 82,
   "id": "4db883b0",
   "metadata": {},
   "outputs": [],
   "source": [
    "# word_counts = {}\n",
    "# for word in document:\n",
    "#     try:\n",
    "#         word_counts[word] += 1\n",
    "#     except KeyError:\n",
    "#         word_counts[word] = 1"
   ]
  },
  {
   "cell_type": "code",
   "execution_count": 83,
   "id": "a6a8d45a",
   "metadata": {},
   "outputs": [],
   "source": [
    "# word_counts = {}\n",
    "# for word in document:\n",
    "#     previous_count = word_counts.get(word, 0)\n",
    "#     word_counts[word] = previous_count + 1"
   ]
  },
  {
   "cell_type": "code",
   "execution_count": 4,
   "id": "f1d56e50",
   "metadata": {},
   "outputs": [],
   "source": [
    "from collections import defaultdict"
   ]
  },
  {
   "cell_type": "code",
   "execution_count": 85,
   "id": "c5aa7984",
   "metadata": {},
   "outputs": [],
   "source": [
    "# word_counts = defaultdict(int)\n",
    "# for word in document:\n",
    "#     word_counts[word] += 1"
   ]
  },
  {
   "cell_type": "code",
   "execution_count": 86,
   "id": "a93eea79",
   "metadata": {},
   "outputs": [],
   "source": [
    "dd_list = defaultdict(list)"
   ]
  },
  {
   "cell_type": "code",
   "execution_count": 87,
   "id": "7557d953",
   "metadata": {},
   "outputs": [
    {
     "data": {
      "text/plain": [
       "defaultdict(list, {2: [1]})"
      ]
     },
     "execution_count": 87,
     "metadata": {},
     "output_type": "execute_result"
    }
   ],
   "source": [
    "dd_list[2].append(1)\n",
    "dd_list"
   ]
  },
  {
   "cell_type": "code",
   "execution_count": 88,
   "id": "f696bb0e",
   "metadata": {},
   "outputs": [
    {
     "data": {
      "text/plain": [
       "defaultdict(dict, {'joel': {'City': 'Seattle'}})"
      ]
     },
     "execution_count": 88,
     "metadata": {},
     "output_type": "execute_result"
    }
   ],
   "source": [
    "dd_dict = defaultdict(dict)\n",
    "dd_dict[\"joel\"][\"City\"] = \"Seattle\"\n",
    "dd_dict"
   ]
  },
  {
   "cell_type": "code",
   "execution_count": 89,
   "id": "fc8d8a66",
   "metadata": {},
   "outputs": [
    {
     "data": {
      "text/plain": [
       "defaultdict(<function __main__.<lambda>()>, {2: [0, 1]})"
      ]
     },
     "execution_count": 89,
     "metadata": {},
     "output_type": "execute_result"
    }
   ],
   "source": [
    "dd_pair = defaultdict(lambda: [0, 0])\n",
    "dd_pair[2][1] = 1\n",
    "dd_pair"
   ]
  },
  {
   "cell_type": "markdown",
   "id": "a4e4612a",
   "metadata": {},
   "source": [
    "### Counter"
   ]
  },
  {
   "cell_type": "code",
   "execution_count": 5,
   "id": "f0d3664c",
   "metadata": {},
   "outputs": [],
   "source": [
    "from collections import Counter\n",
    "c = Counter([0, 1, 2, 0])"
   ]
  },
  {
   "cell_type": "code",
   "execution_count": 91,
   "id": "4f2a6bbb",
   "metadata": {},
   "outputs": [],
   "source": [
    "# words_counts = Counter(document)"
   ]
  },
  {
   "cell_type": "code",
   "execution_count": 92,
   "id": "18e673e9",
   "metadata": {},
   "outputs": [],
   "source": [
    "# for word, count in word_counts,most_common(10):\n",
    "#     print(word, count)"
   ]
  },
  {
   "cell_type": "markdown",
   "id": "ae8e6a16",
   "metadata": {},
   "source": [
    "### Sets"
   ]
  },
  {
   "cell_type": "code",
   "execution_count": 93,
   "id": "cf0b954b",
   "metadata": {},
   "outputs": [],
   "source": [
    "prime_below_10 = {2, 3, 5, 7}"
   ]
  },
  {
   "cell_type": "code",
   "execution_count": 94,
   "id": "5b62c4a6",
   "metadata": {},
   "outputs": [],
   "source": [
    "s = set()\n",
    "s.add(1)\n",
    "s.add(2)\n",
    "s.add(3)\n",
    "x = len(s)\n",
    "y = 2 in s\n",
    "z = 3 in s"
   ]
  },
  {
   "cell_type": "code",
   "execution_count": 95,
   "id": "be9ae285",
   "metadata": {},
   "outputs": [],
   "source": [
    "# stopwords_list = [\"a\", \"an\", \"at\"] + hundreds_of_other_words + [\"yet\", \"you\"]\n",
    "# \"zip\" in stopwords_set\n",
    "\n",
    "# stopwords_set = set(stopwords_list)\n",
    "# \"zip\" in stopwords_set"
   ]
  },
  {
   "cell_type": "code",
   "execution_count": 96,
   "id": "270c0f89",
   "metadata": {},
   "outputs": [],
   "source": [
    "item_list = [1, 2, 3, 1, 2, 3]\n",
    "num_items = len(item_list)\n",
    "item_set = set(item_list)\n",
    "num_distinct_items = len(item_set)\n",
    "distinct_item_list = list(item_set)"
   ]
  },
  {
   "cell_type": "markdown",
   "id": "77cc7ae4",
   "metadata": {},
   "source": [
    "### Contro Flow"
   ]
  },
  {
   "cell_type": "code",
   "execution_count": 97,
   "id": "a5474ea5",
   "metadata": {},
   "outputs": [],
   "source": [
    "if 1 > 2:\n",
    "    message = \"if only 1 were greater than two...\"\n",
    "elif 1 > 3:\n",
    "    message: \"elif stands for 'else if' \"\n",
    "else:\n",
    "    message = \"when all else fails use else (if you want to)\""
   ]
  },
  {
   "cell_type": "code",
   "execution_count": 98,
   "id": "05ca5df8",
   "metadata": {},
   "outputs": [],
   "source": [
    "parity = \"even\" if x % 2 == 0 else \"odd\""
   ]
  },
  {
   "cell_type": "code",
   "execution_count": 99,
   "id": "b3e2bebf",
   "metadata": {},
   "outputs": [
    {
     "name": "stdout",
     "output_type": "stream",
     "text": [
      "0 is less than 10\n",
      "1 is less than 10\n",
      "2 is less than 10\n",
      "3 is less than 10\n",
      "4 is less than 10\n",
      "5 is less than 10\n",
      "6 is less than 10\n",
      "7 is less than 10\n",
      "8 is less than 10\n",
      "9 is less than 10\n"
     ]
    }
   ],
   "source": [
    "x = 0\n",
    "while x < 10:\n",
    "    print(f\"{x} is less than 10\")\n",
    "    x += 1"
   ]
  },
  {
   "cell_type": "code",
   "execution_count": 100,
   "id": "e7a9b9d5",
   "metadata": {},
   "outputs": [
    {
     "name": "stdout",
     "output_type": "stream",
     "text": [
      "0 is less than 10\n",
      "1 is less than 10\n",
      "2 is less than 10\n",
      "3 is less than 10\n",
      "4 is less than 10\n",
      "5 is less than 10\n",
      "6 is less than 10\n",
      "7 is less than 10\n",
      "8 is less than 10\n",
      "9 is less than 10\n"
     ]
    }
   ],
   "source": [
    "for x in range(10):\n",
    "    print(f\"{x} is less than 10\")"
   ]
  },
  {
   "cell_type": "code",
   "execution_count": 101,
   "id": "7f4e3de6",
   "metadata": {},
   "outputs": [
    {
     "name": "stdout",
     "output_type": "stream",
     "text": [
      "0\n",
      "1\n",
      "2\n",
      "4\n"
     ]
    }
   ],
   "source": [
    "for x in range(10):\n",
    "    if x == 3:\n",
    "        continue\n",
    "    if x == 5:\n",
    "        break\n",
    "    print(x)"
   ]
  },
  {
   "cell_type": "markdown",
   "id": "f752a893",
   "metadata": {},
   "source": [
    "### Thuthiness"
   ]
  },
  {
   "cell_type": "code",
   "execution_count": 102,
   "id": "f65dd58c",
   "metadata": {},
   "outputs": [],
   "source": [
    "one_is_less_than_two = 1 < 2\n",
    "true_equals_false = True == False"
   ]
  },
  {
   "cell_type": "code",
   "execution_count": 103,
   "id": "2f93c757",
   "metadata": {},
   "outputs": [],
   "source": [
    "x = None\n",
    "assert x == None, \"this is not the Pythonic way to check for None\"\n",
    "assert x is None, \"this is the Pythonic way to check for None\""
   ]
  },
  {
   "cell_type": "code",
   "execution_count": 104,
   "id": "d3a4c494",
   "metadata": {},
   "outputs": [],
   "source": [
    "# s = some_function_that_returns_a_string()\n",
    "# if s:\n",
    "#     first_char = s[0]\n",
    "# else:\n",
    "#     first_char = \"\""
   ]
  },
  {
   "cell_type": "code",
   "execution_count": 105,
   "id": "6009efbe",
   "metadata": {},
   "outputs": [],
   "source": [
    "# first_char = s and s[0]"
   ]
  },
  {
   "cell_type": "code",
   "execution_count": 106,
   "id": "2a29801b",
   "metadata": {},
   "outputs": [],
   "source": [
    "safe_x = x or 0"
   ]
  },
  {
   "cell_type": "code",
   "execution_count": 107,
   "id": "b1be3907",
   "metadata": {},
   "outputs": [],
   "source": [
    "safe_x = x if x is not None else 0"
   ]
  },
  {
   "cell_type": "code",
   "execution_count": 108,
   "id": "fb21d5c4",
   "metadata": {},
   "outputs": [
    {
     "data": {
      "text/plain": [
       "False"
      ]
     },
     "execution_count": 108,
     "metadata": {},
     "output_type": "execute_result"
    }
   ],
   "source": [
    "all([True, 1, [3]])\n",
    "all([True, 1, {}])\n",
    "any([True, 1, {}])\n",
    "all([])\n",
    "any([])"
   ]
  },
  {
   "cell_type": "markdown",
   "id": "2c13b089",
   "metadata": {},
   "source": [
    "### Sorting"
   ]
  },
  {
   "cell_type": "code",
   "execution_count": 109,
   "id": "370ffda9",
   "metadata": {},
   "outputs": [],
   "source": [
    "x = [4, 1, 2, 3]\n",
    "y = sorted(x)\n",
    "x.sort()"
   ]
  },
  {
   "cell_type": "code",
   "execution_count": 110,
   "id": "1dd02d20",
   "metadata": {},
   "outputs": [],
   "source": [
    "x = sorted([-4, 1, -2, 3], key=abs, reverse=True)"
   ]
  },
  {
   "cell_type": "code",
   "execution_count": 111,
   "id": "383a8ea8",
   "metadata": {},
   "outputs": [],
   "source": [
    "# wc = sorted(word_counts.items(),\n",
    "#             key=lambda word_and_count: word_and_count[1],\n",
    "#             reverse=True\n",
    "#            )"
   ]
  },
  {
   "cell_type": "markdown",
   "id": "50760ddf",
   "metadata": {},
   "source": [
    "### List Comprehension"
   ]
  },
  {
   "cell_type": "code",
   "execution_count": 112,
   "id": "ed08d283",
   "metadata": {},
   "outputs": [],
   "source": [
    "even_numbers = [x for x in range(5)if x % 2 == 0]\n",
    "squares = [x * x for x in range(5)]\n",
    "even_squares = [x * x for x in even_numbers]"
   ]
  },
  {
   "cell_type": "code",
   "execution_count": 113,
   "id": "aa9974d8",
   "metadata": {},
   "outputs": [],
   "source": [
    "square_dict = {x: x *x for x in range(5)}\n",
    "square_set = {x * x for x in [1, -1]}"
   ]
  },
  {
   "cell_type": "code",
   "execution_count": 114,
   "id": "93d0cf7d",
   "metadata": {},
   "outputs": [],
   "source": [
    "zeros = [0 for _ in even_numbers]"
   ]
  },
  {
   "cell_type": "code",
   "execution_count": 115,
   "id": "772aef9a",
   "metadata": {},
   "outputs": [],
   "source": [
    "pairs = [(x, y)\n",
    "         for x in range(10)\n",
    "         for y in range(10)\n",
    "        ]"
   ]
  },
  {
   "cell_type": "code",
   "execution_count": 117,
   "id": "610560db",
   "metadata": {},
   "outputs": [],
   "source": [
    "increasing_pairs = [(x, y)\n",
    "                    for x in range(10)\n",
    "                    for y in range(x + 1, 10)]"
   ]
  },
  {
   "cell_type": "markdown",
   "id": "3bde9d1f",
   "metadata": {},
   "source": [
    "### Automated Testing & assert"
   ]
  },
  {
   "cell_type": "code",
   "execution_count": 6,
   "id": "7923349b",
   "metadata": {},
   "outputs": [],
   "source": [
    "assert 1 + 1 == 2\n",
    "assert 1 + 1 == 2, \"1 + 1 should equal 2 but didn't\""
   ]
  },
  {
   "cell_type": "code",
   "execution_count": 7,
   "id": "a9051bc1",
   "metadata": {},
   "outputs": [],
   "source": [
    "def smallest_item(xs):\n",
    "    return min(xs)\n",
    "\n",
    "assert smallest_item([10, 20, 5, 40]) == 5\n",
    "assert smallest_item([1, 0, -1, 2]) == -1"
   ]
  },
  {
   "cell_type": "code",
   "execution_count": 8,
   "id": "5a1bdf26",
   "metadata": {},
   "outputs": [],
   "source": [
    "def smallest_item(xs):\n",
    "    assert xs, \"empty list has no smallest item\"\n",
    "    return min(xs)"
   ]
  },
  {
   "cell_type": "markdown",
   "id": "73d49e98",
   "metadata": {},
   "source": [
    "### Object-Oriented Programming"
   ]
  },
  {
   "cell_type": "code",
   "execution_count": 9,
   "id": "c4b95843",
   "metadata": {},
   "outputs": [],
   "source": [
    "class CountingClicker:\n",
    "    \"\"\"A class can/should have a docstring, just like a function\"\"\""
   ]
  },
  {
   "cell_type": "code",
   "execution_count": 10,
   "id": "c81e621b",
   "metadata": {},
   "outputs": [],
   "source": [
    "def __init__(self, count = 0):\n",
    "    self.count = count\n",
    "    \n",
    "    clicker1 = CountingClicker()\n",
    "    clicker2 = CountingClicker(100)\n",
    "    clicker3 = CountingClicker(count=100)"
   ]
  },
  {
   "cell_type": "code",
   "execution_count": 11,
   "id": "5a51bd9d",
   "metadata": {},
   "outputs": [],
   "source": [
    "def __repr__(self):\n",
    "    return f\"CountingClicker(count={self.count})\""
   ]
  },
  {
   "cell_type": "code",
   "execution_count": 12,
   "id": "4766df42",
   "metadata": {},
   "outputs": [],
   "source": [
    "def click(self, num_times = 1):\n",
    "    \"\"\"click the clicker some number of times.\"\"\"\n",
    "    self.count += num_times\n"
   ]
  },
  {
   "cell_type": "code",
   "execution_count": 13,
   "id": "21aea96d",
   "metadata": {},
   "outputs": [],
   "source": [
    "def read(self):\n",
    "    return self.count"
   ]
  },
  {
   "cell_type": "code",
   "execution_count": 14,
   "id": "5c422c78",
   "metadata": {},
   "outputs": [],
   "source": [
    "def reset(self):\n",
    "    self.count = 0"
   ]
  },
  {
   "cell_type": "code",
   "execution_count": 15,
   "id": "f13e2e49",
   "metadata": {},
   "outputs": [],
   "source": [
    "# clicker = CountingClicker()\n",
    "# assert clicker.read() == 0, \"clicker should start with count 0\"\n",
    "# clicker.click()\n",
    "# clicker.click()\n",
    "# assert clicker.read() == 2, \"after two clicks, clicker should have count 2\"\n",
    "# clicker.reset()\n",
    "# assert clicker.read() == 0, \"after reset, clicker should be back to 0\""
   ]
  },
  {
   "cell_type": "code",
   "execution_count": 16,
   "id": "fb2af7ba",
   "metadata": {},
   "outputs": [],
   "source": [
    "# class NoResetClicker(CountingClicker):\n",
    "#     # This class has all the same methods as CountingClicker\n",
    "    \n",
    "#     # Except that it has a reset method that does nothing.\n",
    "#     def reset(self):\n",
    "#         pass\n",
    "    \n",
    "# clicker2 = NoResetClicker()\n",
    "# assert clicker2.read() == 0\n",
    "# clicker2.click()\n",
    "# assert clicker2.read() == 1\n",
    "# clicker.reset()\n",
    "# assert clicker2.read() == 1, \"reset shouldn't do anything\""
   ]
  },
  {
   "cell_type": "markdown",
   "id": "212a72d8",
   "metadata": {},
   "source": [
    "### Iterables & Generators"
   ]
  },
  {
   "cell_type": "code",
   "execution_count": 17,
   "id": "3b2f5481",
   "metadata": {},
   "outputs": [
    {
     "name": "stdout",
     "output_type": "stream",
     "text": [
      "i:0\n",
      "i:1\n",
      "i:2\n",
      "i:3\n",
      "i:4\n",
      "i:5\n",
      "i:6\n",
      "i:7\n",
      "i:8\n",
      "i:9\n"
     ]
    }
   ],
   "source": [
    "def generate_range(n):\n",
    "    i = 0\n",
    "    while i < n:\n",
    "        yield i\n",
    "        i += 1\n",
    "        \n",
    "for i in generate_range(10):\n",
    "    print(f\"i:{i}\")"
   ]
  },
  {
   "cell_type": "code",
   "execution_count": 18,
   "id": "b49901a5",
   "metadata": {},
   "outputs": [],
   "source": [
    "def natural_numbers():\n",
    "    \"\"\"returns 1, 2, 3, ...\"\"\"\n",
    "    n = 1\n",
    "    while True:\n",
    "        yield n\n",
    "        n += 1"
   ]
  },
  {
   "cell_type": "code",
   "execution_count": 19,
   "id": "9a5370e9",
   "metadata": {},
   "outputs": [],
   "source": [
    "even_below_20 = (i for i in generate_range(20) if i % 2 == 0)"
   ]
  },
  {
   "cell_type": "code",
   "execution_count": 20,
   "id": "a0e35bd2",
   "metadata": {},
   "outputs": [],
   "source": [
    "data = natural_numbers()\n",
    "evens = (x for x in data if x % 2 == 0)\n",
    "even_squares = (x ** 2 for x in evens)\n",
    "even_squares_ending_in_six = (x for x in even_squares if x % 10 == 6)"
   ]
  },
  {
   "cell_type": "code",
   "execution_count": 21,
   "id": "7e71b0bc",
   "metadata": {},
   "outputs": [],
   "source": [
    "names = [\"Alice\", \"Bob\", \"Charlie\", \"Debbie\"]"
   ]
  },
  {
   "cell_type": "code",
   "execution_count": 22,
   "id": "544b9245",
   "metadata": {},
   "outputs": [
    {
     "name": "stdout",
     "output_type": "stream",
     "text": [
      "name 0 is Alice\n",
      "name 1 is Bob\n",
      "name 2 is Charlie\n",
      "name 3 is Debbie\n"
     ]
    }
   ],
   "source": [
    "for i, name in enumerate(names):\n",
    "    print(f\"name {i} is {name}\")"
   ]
  },
  {
   "cell_type": "markdown",
   "id": "610f4279",
   "metadata": {},
   "source": [
    "### Randomness"
   ]
  },
  {
   "cell_type": "code",
   "execution_count": 23,
   "id": "27333aa0",
   "metadata": {},
   "outputs": [],
   "source": [
    "import random "
   ]
  },
  {
   "cell_type": "code",
   "execution_count": 24,
   "id": "514bb8af",
   "metadata": {},
   "outputs": [],
   "source": [
    "random.seed(10)"
   ]
  },
  {
   "cell_type": "code",
   "execution_count": 26,
   "id": "a1767c50",
   "metadata": {},
   "outputs": [
    {
     "data": {
      "text/plain": [
       "[0.81332125135732, 0.8235888725334455, 0.6534725339011758, 0.16022955651881965]"
      ]
     },
     "execution_count": 26,
     "metadata": {},
     "output_type": "execute_result"
    }
   ],
   "source": [
    "four_uniform_randoms = [random.random() for _ in range(4)]\n",
    "four_uniform_randoms"
   ]
  },
  {
   "cell_type": "code",
   "execution_count": 28,
   "id": "04f0efe8",
   "metadata": {},
   "outputs": [
    {
     "name": "stdout",
     "output_type": "stream",
     "text": [
      "0.5714025946899135\n"
     ]
    }
   ],
   "source": [
    "random.seed(10)\n",
    "print(random.random())"
   ]
  },
  {
   "cell_type": "code",
   "execution_count": 29,
   "id": "cc73925c",
   "metadata": {},
   "outputs": [
    {
     "data": {
      "text/plain": [
       "6"
      ]
     },
     "execution_count": 29,
     "metadata": {},
     "output_type": "execute_result"
    }
   ],
   "source": [
    "random.randrange(10)"
   ]
  },
  {
   "cell_type": "code",
   "execution_count": 30,
   "id": "c66b90ea",
   "metadata": {},
   "outputs": [
    {
     "data": {
      "text/plain": [
       "4"
      ]
     },
     "execution_count": 30,
     "metadata": {},
     "output_type": "execute_result"
    }
   ],
   "source": [
    "random.randrange(3, 6)"
   ]
  },
  {
   "cell_type": "code",
   "execution_count": 32,
   "id": "63dad12c",
   "metadata": {},
   "outputs": [
    {
     "name": "stdout",
     "output_type": "stream",
     "text": [
      "[7, 9, 5, 8, 1, 3, 10, 4, 2, 6]\n"
     ]
    }
   ],
   "source": [
    "up_to_ten = [1, 2, 3, 4, 5, 6, 7, 8, 9, 10]\n",
    "random.shuffle(up_to_ten)\n",
    "print(up_to_ten)"
   ]
  },
  {
   "cell_type": "code",
   "execution_count": 34,
   "id": "0725740c",
   "metadata": {},
   "outputs": [
    {
     "data": {
      "text/plain": [
       "'Bob'"
      ]
     },
     "execution_count": 34,
     "metadata": {},
     "output_type": "execute_result"
    }
   ],
   "source": [
    "my_best_friend = random.choice([\"Alice\", \"Bob\", \"Charlie\"])\n",
    "my_best_friend"
   ]
  },
  {
   "cell_type": "code",
   "execution_count": 36,
   "id": "52dc13c9",
   "metadata": {},
   "outputs": [
    {
     "data": {
      "text/plain": [
       "[43, 19, 42, 23, 8, 29]"
      ]
     },
     "execution_count": 36,
     "metadata": {},
     "output_type": "execute_result"
    }
   ],
   "source": [
    "lottery_numbers = range(60)\n",
    "winning_numbers = random.sample(lottery_numbers, 6)\n",
    "winning_numbers"
   ]
  },
  {
   "cell_type": "code",
   "execution_count": 37,
   "id": "d8bc3de0",
   "metadata": {},
   "outputs": [
    {
     "name": "stdout",
     "output_type": "stream",
     "text": [
      "[3, 7, 9, 6]\n"
     ]
    }
   ],
   "source": [
    "four_with_replacement = [random.choice(range(10)) for _ in range(4)]\n",
    "print(four_with_replacement)"
   ]
  },
  {
   "cell_type": "markdown",
   "id": "41f346a3",
   "metadata": {},
   "source": [
    "### Regular Expresions"
   ]
  },
  {
   "cell_type": "code",
   "execution_count": 38,
   "id": "3c99a646",
   "metadata": {},
   "outputs": [],
   "source": [
    "import re"
   ]
  },
  {
   "cell_type": "code",
   "execution_count": 41,
   "id": "a7359e55",
   "metadata": {},
   "outputs": [],
   "source": [
    "re_examples = [\n",
    "    not re.match(\"a\", \"cat\"),\n",
    "    re.search(\"a\", \"cat\"),\n",
    "    not re.search(\"c\", \"dog\"),\n",
    "    3 == len(re.split(\"[ab]\", \"carbs\")),\n",
    "    \"R-D\" == re.sub(\"[0-9]\", \"-\", \"R2D2\")\n",
    "]"
   ]
  },
  {
   "cell_type": "code",
   "execution_count": 43,
   "id": "87ca56d8",
   "metadata": {},
   "outputs": [],
   "source": [
    "# assert all(re_examples)"
   ]
  },
  {
   "cell_type": "markdown",
   "id": "cf580f4b",
   "metadata": {},
   "source": [
    "### Zip & Argument Unpacking"
   ]
  },
  {
   "cell_type": "code",
   "execution_count": 44,
   "id": "125a8160",
   "metadata": {},
   "outputs": [],
   "source": [
    "list1 = ['a', 'b', 'c'] \n",
    "list2 = [1, 2, 3]"
   ]
  },
  {
   "cell_type": "code",
   "execution_count": 45,
   "id": "3385876a",
   "metadata": {},
   "outputs": [
    {
     "data": {
      "text/plain": [
       "[('a', 1), ('b', 2), ('c', 3)]"
      ]
     },
     "execution_count": 45,
     "metadata": {},
     "output_type": "execute_result"
    }
   ],
   "source": [
    "[pair for pair in zip(list1, list2)]"
   ]
  },
  {
   "cell_type": "code",
   "execution_count": 46,
   "id": "1c974c08",
   "metadata": {},
   "outputs": [],
   "source": [
    "pairs = [('a', 1), ('b', 2), ('c', 3)]\n",
    "letters, numbers = zip(*pairs)"
   ]
  },
  {
   "cell_type": "code",
   "execution_count": 47,
   "id": "3b0d91bd",
   "metadata": {},
   "outputs": [],
   "source": [
    "letters, numbers = zip(('a', 1), ('b', 2), ('c', 3))"
   ]
  },
  {
   "cell_type": "code",
   "execution_count": 48,
   "id": "f1f0ee82",
   "metadata": {},
   "outputs": [],
   "source": [
    "def add(a, b):\n",
    "    return a + b"
   ]
  },
  {
   "cell_type": "code",
   "execution_count": 50,
   "id": "c9153ab5",
   "metadata": {},
   "outputs": [
    {
     "name": "stdout",
     "output_type": "stream",
     "text": [
      "add expects two inputs\n"
     ]
    },
    {
     "data": {
      "text/plain": [
       "3"
      ]
     },
     "execution_count": 50,
     "metadata": {},
     "output_type": "execute_result"
    }
   ],
   "source": [
    "add(1, 2)\n",
    "try:\n",
    "    add([1, 2])\n",
    "except TypeError:\n",
    "    print(\"add expects two inputs\")\n",
    "add(*[1, 2])"
   ]
  },
  {
   "cell_type": "markdown",
   "id": "114cd84e",
   "metadata": {},
   "source": [
    "### args & kwargs"
   ]
  },
  {
   "cell_type": "code",
   "execution_count": 51,
   "id": "a21069af",
   "metadata": {},
   "outputs": [],
   "source": [
    "def doubler(f):\n",
    "    def g(x):\n",
    "        return 2 * f(x)\n",
    "    \n",
    "    return g"
   ]
  },
  {
   "cell_type": "code",
   "execution_count": 54,
   "id": "35019d8c",
   "metadata": {},
   "outputs": [],
   "source": [
    "def f1(x):\n",
    "    return x + 1\n",
    "    \n",
    "g = doubler(f1)\n",
    "assert g(3) == 8, \"(3 + 1) * 2 should equal 8\"\n",
    "assert g(-1) == 0, \"(-1 + 1) * 2 should equal 0\""
   ]
  },
  {
   "cell_type": "code",
   "execution_count": 55,
   "id": "bdb17f82",
   "metadata": {},
   "outputs": [],
   "source": [
    "def f2(x, y):\n",
    "    return x + y"
   ]
  },
  {
   "cell_type": "code",
   "execution_count": 56,
   "id": "e825abb6",
   "metadata": {},
   "outputs": [
    {
     "name": "stdout",
     "output_type": "stream",
     "text": [
      "as defined, g only takes one argument\n"
     ]
    }
   ],
   "source": [
    "g = doubler(f2)\n",
    "try:\n",
    "    g(1, 2)\n",
    "except TypeError:\n",
    "    print(\"as defined, g only takes one argument\")"
   ]
  },
  {
   "cell_type": "code",
   "execution_count": 58,
   "id": "791790b4",
   "metadata": {},
   "outputs": [
    {
     "name": "stdout",
     "output_type": "stream",
     "text": [
      "unnamed args: (1, 2)\n",
      "keyword args: {'key': 'word', 'key2': 'word2'}\n"
     ]
    }
   ],
   "source": [
    "def magic(*args, **kwargs):\n",
    "    print(\"unnamed args:\", args)\n",
    "    print(\"keyword args:\", kwargs)\n",
    "    \n",
    "magic(1, 2, key=\"word\", key2 = \"word2\")"
   ]
  },
  {
   "cell_type": "code",
   "execution_count": 59,
   "id": "ffbbc84a",
   "metadata": {},
   "outputs": [],
   "source": [
    "def other_way_magic(x, y, z):\n",
    "    return x + y + z"
   ]
  },
  {
   "cell_type": "code",
   "execution_count": 63,
   "id": "3459ffc2",
   "metadata": {},
   "outputs": [],
   "source": [
    "# x_y_list = [1, 2]\n",
    "# z_dict = {\"z\": 3}\n",
    "# asser other_way_magic(*x_y_list, **z_dict) == 6, \"1 + 2 + 3 should be 6\""
   ]
  },
  {
   "cell_type": "markdown",
   "id": "60f1ec83",
   "metadata": {},
   "source": [
    "### Type Annotations"
   ]
  },
  {
   "cell_type": "code",
   "execution_count": 64,
   "id": "c3f97a0f",
   "metadata": {},
   "outputs": [],
   "source": [
    "def add(a, b):\n",
    "    return a + b"
   ]
  },
  {
   "cell_type": "code",
   "execution_count": 68,
   "id": "9b0e696c",
   "metadata": {},
   "outputs": [],
   "source": [
    "# assert add(10, 5) == 15\n",
    "# assert add([1, 2], [3]) == [1, 2, 3]\n",
    "# assert add(\"hi\", \"there\") == \"hi there\"\n",
    "\n",
    "# try:\n",
    "#     add(10, \"five\")\n",
    "# except TypeError:\n",
    "#     print(\"cannot add an int to a string\")"
   ]
  },
  {
   "cell_type": "code",
   "execution_count": 69,
   "id": "598536d0",
   "metadata": {},
   "outputs": [],
   "source": [
    "def add(a: int, b: int) -> int:\n",
    "    return a + b"
   ]
  },
  {
   "cell_type": "code",
   "execution_count": 70,
   "id": "3be0e2e6",
   "metadata": {},
   "outputs": [
    {
     "data": {
      "text/plain": [
       "15"
      ]
     },
     "execution_count": 70,
     "metadata": {},
     "output_type": "execute_result"
    }
   ],
   "source": [
    "add(10, 5)"
   ]
  },
  {
   "cell_type": "code",
   "execution_count": 73,
   "id": "7b79689d",
   "metadata": {},
   "outputs": [
    {
     "data": {
      "text/plain": [
       "'hi there'"
      ]
     },
     "execution_count": 73,
     "metadata": {},
     "output_type": "execute_result"
    }
   ],
   "source": [
    "add(\"hi \", \"there\")"
   ]
  },
  {
   "cell_type": "code",
   "execution_count": 75,
   "id": "167cb593",
   "metadata": {},
   "outputs": [],
   "source": [
    "from typing import Union"
   ]
  },
  {
   "cell_type": "code",
   "execution_count": 76,
   "id": "75b3cd50",
   "metadata": {},
   "outputs": [],
   "source": [
    "def secretly_ugly_function(value, operation):\n",
    "    pass\n"
   ]
  },
  {
   "cell_type": "code",
   "execution_count": 78,
   "id": "76f35b50",
   "metadata": {},
   "outputs": [],
   "source": [
    "def ugly_function(value: int,\n",
    "                  operation: Union[str, int, float, bool]) -> int:\n",
    "    pass"
   ]
  },
  {
   "cell_type": "markdown",
   "id": "9e682af5",
   "metadata": {},
   "source": [
    "### How to write Type Annotations"
   ]
  },
  {
   "cell_type": "code",
   "execution_count": 79,
   "id": "8604fc71",
   "metadata": {},
   "outputs": [],
   "source": [
    "def total(xs: list) -> float:\n",
    "    return sum(total)"
   ]
  },
  {
   "cell_type": "code",
   "execution_count": 80,
   "id": "2ab43d76",
   "metadata": {},
   "outputs": [],
   "source": [
    "from typing import List"
   ]
  },
  {
   "cell_type": "code",
   "execution_count": 81,
   "id": "48018f14",
   "metadata": {},
   "outputs": [],
   "source": [
    "def total(xs: List[float]) -> float:\n",
    "    return sum(total)"
   ]
  },
  {
   "cell_type": "code",
   "execution_count": 83,
   "id": "ee54f6f6",
   "metadata": {},
   "outputs": [],
   "source": [
    "x: int = 5"
   ]
  },
  {
   "cell_type": "code",
   "execution_count": 84,
   "id": "b8246a84",
   "metadata": {},
   "outputs": [],
   "source": [
    "values = []\n",
    "best_so_far = None"
   ]
  },
  {
   "cell_type": "code",
   "execution_count": 85,
   "id": "f0bf5510",
   "metadata": {},
   "outputs": [],
   "source": [
    "from typing import Optional"
   ]
  },
  {
   "cell_type": "code",
   "execution_count": 87,
   "id": "c0f4bb26",
   "metadata": {},
   "outputs": [],
   "source": [
    "values: List[int] = []\n",
    "best_so_far: Optional[float] = None"
   ]
  },
  {
   "cell_type": "code",
   "execution_count": null,
   "id": "a705ee19",
   "metadata": {},
   "outputs": [],
   "source": []
  }
 ],
 "metadata": {
  "kernelspec": {
   "display_name": "Python 3 (ipykernel)",
   "language": "python",
   "name": "python3"
  },
  "language_info": {
   "codemirror_mode": {
    "name": "ipython",
    "version": 3
   },
   "file_extension": ".py",
   "mimetype": "text/x-python",
   "name": "python",
   "nbconvert_exporter": "python",
   "pygments_lexer": "ipython3",
   "version": "3.9.16"
  }
 },
 "nbformat": 4,
 "nbformat_minor": 5
}
