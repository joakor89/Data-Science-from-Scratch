{
 "cells": [
  {
   "cell_type": "markdown",
   "id": "c270461f",
   "metadata": {},
   "source": [
    "# Chapter 4 - Linear Algebra"
   ]
  },
  {
   "cell_type": "markdown",
   "id": "89472498",
   "metadata": {},
   "source": [
    "### Import Libraries"
   ]
  },
  {
   "cell_type": "code",
   "execution_count": 2,
   "id": "05e084b9",
   "metadata": {},
   "outputs": [],
   "source": [
    "import pandas as pd\n",
    "import numpy as np\n",
    "import matplotlib.pyplot as plt\n",
    "from typing import List"
   ]
  },
  {
   "cell_type": "markdown",
   "id": "e1776342",
   "metadata": {},
   "source": [
    "### Vectors"
   ]
  },
  {
   "cell_type": "code",
   "execution_count": 3,
   "id": "107a0247",
   "metadata": {},
   "outputs": [],
   "source": [
    "Vector = List[float]\n",
    "\n",
    "height_weight_age = [70, # inches,\n",
    "                     170, # pounds,\n",
    "                     40] # years\n",
    "\n",
    "grades = [95, # exam1\n",
    "          80, # exam2\n",
    "          75, # exam3\n",
    "          62] # exam4"
   ]
  },
  {
   "cell_type": "code",
   "execution_count": 5,
   "id": "ad4a6da4",
   "metadata": {},
   "outputs": [],
   "source": [
    "def add(v: Vector, w: Vector) -> Vector:\n",
    "    \"\"\"Adds corresponding elements\"\"\"\n",
    "    assert len(v) == len(w), \"vectors must be the same length\"\n",
    "    return [v_i + w_i for v_i, w_i in zip(v, w)]\n",
    "\n",
    "assert add([1, 2, 3], [4, 5, 6]) == [5, 7, 9]"
   ]
  },
  {
   "cell_type": "code",
   "execution_count": 8,
   "id": "0ee1aed5",
   "metadata": {},
   "outputs": [],
   "source": [
    "def subtract(v: Vector, w: Vector) -> Vector:\n",
    "    \"\"\"Subtracts corresponding elements\"\"\"\n",
    "    assert len(v) == len(w), \"vectors must be the same length\"\n",
    "    return [v_i - w_i for v_i, w_i in zip(v, w)]\n",
    "\n",
    "assert subtract([5, 7, 9], [4, 5, 6]) == [1, 2, 3]"
   ]
  },
  {
   "cell_type": "code",
   "execution_count": 10,
   "id": "ed420b18",
   "metadata": {},
   "outputs": [],
   "source": [
    "# Componentwise sum a list of vectors\n",
    "\n",
    "def vector_sum(vectors: List[Vector]) -> Vector:\n",
    "    \"\"\"Sums all corresponding elements\"\"\"\n",
    "    # Check that vectors is not empty\n",
    "    assert vectors, \"no vectors provided!\"\n",
    "    \n",
    "    # check the vectors are all the same size\n",
    "    num_elements = len(vectors[0])\n",
    "    assert all(len(v) == num_elements for v in vectors), \"diferent size!\"\n",
    "    \n",
    "    # the i-th element of the result is the sum of every vector[i]\n",
    "    return [sum(vector[i] for vector in vectors)\n",
    "           for i in range(num_elements)]\n",
    "\n",
    "assert vector_sum([[1, 2], [3, 4], [5, 6], [7, 8]]) == [16, 20]"
   ]
  },
  {
   "cell_type": "code",
   "execution_count": 11,
   "id": "9a40bc71",
   "metadata": {},
   "outputs": [],
   "source": [
    "def scalar_multiply(c: float, v: Vector) -> Vector:\n",
    "    \"\"\"Multiplies every element by c\"\"\"\n",
    "    return [c * v_i for v_i in v]\n",
    "\n",
    "assert scalar_multiply(2, [1, 2, 3]) == [2, 4, 6]"
   ]
  },
  {
   "cell_type": "code",
   "execution_count": 12,
   "id": "da56fe42",
   "metadata": {},
   "outputs": [],
   "source": [
    "def vector_mean(vectors: List[Vector]) -> Vector:\n",
    "    \"\"\"Computers the element-wise average\"\"\"\n",
    "    n = len(vectors)\n",
    "    return scalar_multiply(1/n, vector_sum(vectors))\n",
    "\n",
    "assert vector_mean([[1, 2], [3, 4], [5, 6]]) == [3, 4]"
   ]
  },
  {
   "cell_type": "code",
   "execution_count": 14,
   "id": "05a4d874",
   "metadata": {},
   "outputs": [],
   "source": [
    "# Dot Product\n",
    "\n",
    "def dot(v: Vector, w:Vector) -> float:\n",
    "    \"\"\"Computes v_1 * w_1 + ... + v_n * w_n\"\"\"\n",
    "    assert len(v) == len(w), \"vectors must be the same length\"\n",
    "    \n",
    "    return sum(v_i * w_i for v_i, w_i in zip(v, w))\n",
    "\n",
    "assert dot([1, 2, 3], [4, 5, 6]) == 32"
   ]
  },
  {
   "cell_type": "code",
   "execution_count": 15,
   "id": "26d29b68",
   "metadata": {},
   "outputs": [],
   "source": [
    "def sum_of_squares(v: Vector) -> float:\n",
    "    \"\"\"Returns v_1 * v_1 + ... + v_n * v_n\"\"\"\n",
    "    return dot(v, v)\n",
    "\n",
    "assert sum_of_squares([1, 2, 3]) == 14"
   ]
  },
  {
   "cell_type": "code",
   "execution_count": 16,
   "id": "bb5a6add",
   "metadata": {},
   "outputs": [],
   "source": [
    "import math\n",
    "\n",
    "def magnitude(v: Vector) -> float:\n",
    "    \"\"\"Returns the magnitude (or length) of v\"\"\"\n",
    "    return math.sqrt(sum_of_squares(v))\n",
    "\n",
    "assert magnitude([3, 4]) == 5"
   ]
  },
  {
   "cell_type": "code",
   "execution_count": 17,
   "id": "d0f81a64",
   "metadata": {},
   "outputs": [],
   "source": [
    "def squared_distance(v: Vector, w: Vector) -> float:\n",
    "    \"\"\"Computes (v_1 - w_1) ** 2 + ... + (v_n - w_n) ** 2\"\"\"\n",
    "    return sum_of_squares(subtract(v, w))\n",
    "\n",
    "def distance(v: Vector, w: Vector) -> float:\n",
    "    \"\"\"Computes the distance between v and w\"\"\"\n",
    "    return amth.sqrt(squared_distance(v, w))"
   ]
  },
  {
   "cell_type": "code",
   "execution_count": 18,
   "id": "c8c11465",
   "metadata": {},
   "outputs": [],
   "source": [
    "def distance(v: Vector, w: Vector) -> float:\n",
    "    return magnitude(subtract(v, w))"
   ]
  },
  {
   "cell_type": "markdown",
   "id": "04941f86",
   "metadata": {},
   "source": [
    "### Matrices"
   ]
  },
  {
   "cell_type": "code",
   "execution_count": 19,
   "id": "af93558b",
   "metadata": {},
   "outputs": [],
   "source": [
    "# Another types alias\n",
    "Matrix = List[List[float]]\n",
    "\n",
    "A = [[1, 2, 3],\n",
    "     [4, 5, 6]]\n",
    "\n",
    "B = [[1, 2],\n",
    "     [3, 4],\n",
    "     [5, 6]]"
   ]
  },
  {
   "cell_type": "code",
   "execution_count": 21,
   "id": "d6513df5",
   "metadata": {},
   "outputs": [],
   "source": [
    "from typing import Tuple"
   ]
  },
  {
   "cell_type": "code",
   "execution_count": 22,
   "id": "8eebb8d9",
   "metadata": {},
   "outputs": [],
   "source": [
    "def shape(A: Matrix) -> Tuple[int, int]:\n",
    "    \"\"\"Returns (# of rows of A, # of columns of A)\"\"\"\n",
    "    num_rows = len(A)\n",
    "    num_cols = len(A[0]) if A else 0\n",
    "    return num_rows, num_cols\n",
    "\n",
    "assert shape([[1, 2, 3], [4, 5, 6]]) == (2, 3)"
   ]
  },
  {
   "cell_type": "code",
   "execution_count": 23,
   "id": "856dbd3d",
   "metadata": {},
   "outputs": [],
   "source": [
    "def get_row(A: Matrix, i: int) -> Vector:\n",
    "    return A[i]\n",
    "\n",
    "def get_column(A: Matrix, j: int) -> Vector:\n",
    "    return [A_i[j]\n",
    "            for A_i in A]"
   ]
  },
  {
   "cell_type": "code",
   "execution_count": 25,
   "id": "a4935f90",
   "metadata": {},
   "outputs": [],
   "source": [
    "from typing import Callable\n",
    "\n",
    "def make_matrix(num_rows: int,\n",
    "                num_cols: int,\n",
    "                entry_fn: Callable[[int, int], float]) -> Matrix:\n",
    "    \n",
    "    return [[entry_fn(i, j)\n",
    "             for j in range(num_cols)]\n",
    "            for i in range(num_rows)]"
   ]
  },
  {
   "cell_type": "code",
   "execution_count": 27,
   "id": "7c0c7aaa",
   "metadata": {},
   "outputs": [],
   "source": [
    "def identity_matrix(n: int) -> Matrix:\n",
    "    return make_matrix(n, n, lambda i, j: 1 if i == j else 0)\n",
    "\n",
    "assert identity_matrix(5) == [[1, 0, 0, 0, 0],\n",
    "                              [0, 1, 0, 0, 0],\n",
    "                              [0, 0, 1, 0, 0],\n",
    "                              [0, 0, 0, 1, 0],\n",
    "                              [0, 0, 0, 0, 1]]"
   ]
  },
  {
   "cell_type": "code",
   "execution_count": 28,
   "id": "67ac7ab8",
   "metadata": {},
   "outputs": [],
   "source": [
    "data = [[70, 170, 40],\n",
    "        [65, 120, 26],\n",
    "        [77, 250, 19],\n",
    "        #...\n",
    "       ]"
   ]
  },
  {
   "cell_type": "code",
   "execution_count": 29,
   "id": "40cddc25",
   "metadata": {},
   "outputs": [],
   "source": [
    "friendships = [(0, 1), (0, 2), (1, 2), (1, 3), (2, 3), (2, 4),\n",
    "               (4, 5), (5, 6), (5, 7), (6, 8), (7, 8), (8, 9)]"
   ]
  },
  {
   "cell_type": "code",
   "execution_count": 30,
   "id": "52a69577",
   "metadata": {},
   "outputs": [],
   "source": [
    "friend_matrix = [[0, 1, 1, 0, 0, 0, 0, 0, 0, 0],\n",
    "                 [1, 0, 1, 1, 0, 0, 0, 0, 0, 0],\n",
    "                 [1, 1, 0, 1, 0, 0, 0, 0, 0, 0],\n",
    "                 [0, 1, 1, 0, 1, 0, 0, 0, 0, 0],\n",
    "                 [0, 0, 0, 1, 0, 1, 0, 0, 0, 0],\n",
    "                 [0, 0, 0, 0, 1, 0, 1, 1, 0, 0],\n",
    "                 [0, 0, 0, 0, 0, 1, 0, 0, 1, 0],\n",
    "                 [0, 0, 0, 0, 0, 1, 0, 0, 1, 0],\n",
    "                 [0, 0, 0, 0, 0, 0, 1, 1, 0, 1],\n",
    "                 [0, 0, 0, 0, 0, 0, 0, 0, 1, 0]]\n",
    "\n",
    "assert friend_matrix[0][2] == 1, \"0 and 2 are friends\"\n",
    "assert friend_matrix[0][8] == 0, \"0 and 8 are not friends\""
   ]
  },
  {
   "cell_type": "code",
   "execution_count": 31,
   "id": "de8bf0b5",
   "metadata": {},
   "outputs": [],
   "source": [
    "friends_of_five = [i\n",
    "                   for i, is_friend in enumerate(friend_matrix[5])\n",
    "                   if is_friend]"
   ]
  },
  {
   "cell_type": "code",
   "execution_count": null,
   "id": "552f6cda",
   "metadata": {},
   "outputs": [],
   "source": []
  }
 ],
 "metadata": {
  "kernelspec": {
   "display_name": "Python 3 (ipykernel)",
   "language": "python",
   "name": "python3"
  },
  "language_info": {
   "codemirror_mode": {
    "name": "ipython",
    "version": 3
   },
   "file_extension": ".py",
   "mimetype": "text/x-python",
   "name": "python",
   "nbconvert_exporter": "python",
   "pygments_lexer": "ipython3",
   "version": "3.9.16"
  }
 },
 "nbformat": 4,
 "nbformat_minor": 5
}
