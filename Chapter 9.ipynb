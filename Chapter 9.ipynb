{
 "cells": [
  {
   "cell_type": "markdown",
   "id": "be4f8b90",
   "metadata": {},
   "source": [
    "# Chapter 9 - Getting Data"
   ]
  },
  {
   "cell_type": "markdown",
   "id": "e8a8f03e",
   "metadata": {},
   "source": [
    "### Import Packages"
   ]
  },
  {
   "cell_type": "code",
   "execution_count": 2,
   "id": "1f8bb172",
   "metadata": {},
   "outputs": [],
   "source": [
    "import numpy as np\n",
    "import pandas as pd\n",
    "import matplotlib.pyplot as plt\n",
    "import sys, re"
   ]
  },
  {
   "cell_type": "markdown",
   "id": "332b414e",
   "metadata": {},
   "source": [
    "### stdin & stdout"
   ]
  },
  {
   "cell_type": "code",
   "execution_count": 3,
   "id": "4bb6d2a6",
   "metadata": {},
   "outputs": [],
   "source": [
    "regex = sys.argv[1]"
   ]
  },
  {
   "cell_type": "code",
   "execution_count": 4,
   "id": "9a71926b",
   "metadata": {},
   "outputs": [],
   "source": [
    "for line in sys.stdin:\n",
    "    if re.search(regex, line):\n",
    "        sys.stdout.write(line)"
   ]
  },
  {
   "cell_type": "code",
   "execution_count": 5,
   "id": "79054b47",
   "metadata": {},
   "outputs": [
    {
     "name": "stdout",
     "output_type": "stream",
     "text": [
      "0\n"
     ]
    }
   ],
   "source": [
    "count = 0\n",
    "for line in sys.stdin:\n",
    "    count += 1\n",
    "    \n",
    "print(count)"
   ]
  },
  {
   "cell_type": "code",
   "execution_count": 6,
   "id": "21e0ae35",
   "metadata": {},
   "outputs": [],
   "source": [
    "from collections import Counter"
   ]
  },
  {
   "cell_type": "code",
   "execution_count": 8,
   "id": "925b7d84",
   "metadata": {},
   "outputs": [],
   "source": [
    "try:\n",
    "    num_words = int(sys.argv[1])\n",
    "except:\n",
    "    print(\"usage: most_common_words.py num_words\")\n",
    "    sys.exit(1)\n",
    "    \n",
    "counter = Counter(word.lower()\n",
    "                  for line in sys.stdin\n",
    "                  for word in line.strip().split()\n",
    "                  if word)\n",
    "\n",
    "for word, count in counter.most_common(num_words):\n",
    "    sys.stdout.write(str(count))\n",
    "    sys.stdout.write(\"\\t\")\n",
    "    sys.stdout.write(word)\n",
    "    sys.stdout.write(\"\\n\")"
   ]
  },
  {
   "cell_type": "markdown",
   "id": "8bb1cdfc",
   "metadata": {},
   "source": [
    "### Reading Files "
   ]
  },
  {
   "cell_type": "markdown",
   "id": "0b0b39c5",
   "metadata": {},
   "source": [
    "### The Basics of Text Files"
   ]
  },
  {
   "cell_type": "code",
   "execution_count": 11,
   "id": "78a2eab0",
   "metadata": {},
   "outputs": [],
   "source": [
    "file_for_reading = open('reading_file.txt', 'r')\n",
    "file_for_reading2 = open('reading_file.txt')\n",
    "\n",
    "file_for_writing = open('writing_file.txt', 'w')\n",
    "\n",
    "file_for_appending = open('appending_file.txt', 'a')\n",
    "file_for_writing.close()\n",
    "\n",
    "# Rather choose\n",
    "with open(filename) as f:\n",
    "    data = function_that_gets_data_from(f)\n",
    "\n",
    "process(data)\n",
    "\n",
    "# Reading Entire File\n",
    "starts_wit_hash = 0\n",
    "\n",
    "with open('input.txt') as f:\n",
    "    for line in f:\n",
    "        if re.match(\"^#\", line):\n",
    "            starts_with_hash += 1"
   ]
  },
  {
   "cell_type": "code",
   "execution_count": 13,
   "id": "e34ca8d5",
   "metadata": {},
   "outputs": [],
   "source": [
    "def get_domain(email_address: str) -> str:\n",
    "    return email_address.lower().split(\"@\")[-1]\n",
    "\n",
    "assert get_domain('joelgrus@gmail.com') == 'gmail'\n",
    "assert get_domain('joel@m.datasciencester.com') == 'm.datasciencester.com'"
   ]
  },
  {
   "cell_type": "code",
   "execution_count": 14,
   "id": "ad10caaa",
   "metadata": {},
   "outputs": [],
   "source": [
    "with open('email_address.txt', 'r') as f:\n",
    "    domain_counts = Counter(get_domain(line.strip())\n",
    "                            for line in f\n",
    "                            if \"@\" in line)"
   ]
  },
  {
   "cell_type": "markdown",
   "id": "eb152bae",
   "metadata": {},
   "source": [
    "### Delimited Files"
   ]
  },
  {
   "cell_type": "code",
   "execution_count": 15,
   "id": "8a4e32b8",
   "metadata": {},
   "outputs": [],
   "source": [
    "import csv"
   ]
  },
  {
   "cell_type": "code",
   "execution_count": 17,
   "id": "fe85b5b2",
   "metadata": {},
   "outputs": [],
   "source": [
    "with open('tab_delimited_stock_prices.txt') as f:\n",
    "    tab_reader = csv.reader(f, delimiter = '\\t')\n",
    "    for row in tab_reader:\n",
    "        date = row[0]\n",
    "        symbol = row[1]\n",
    "        closing_price = float(row[2])\n",
    "        process(date, symbol, closing_price)"
   ]
  },
  {
   "cell_type": "code",
   "execution_count": 18,
   "id": "971c75b6",
   "metadata": {},
   "outputs": [],
   "source": [
    "todays_prices = {'APPL': 90.91, 'MSFT': 41.68, 'FB': 64.5}\n",
    "\n",
    "with open('comma_delimited_stock_prices.txt', 'w') as f:\n",
    "    csv_writed = csv.writer(f, delimiter=',')\n",
    "    for stock, price in todays_prices.items():\n",
    "        csv_writer.writerow([stock, price])"
   ]
  },
  {
   "cell_type": "markdown",
   "id": "8855a6fc",
   "metadata": {},
   "source": [
    "## Scraping The Web\n",
    "\n",
    "### HTML & The Parsing Thereof"
   ]
  },
  {
   "cell_type": "code",
   "execution_count": 19,
   "id": "1a200b45",
   "metadata": {},
   "outputs": [],
   "source": [
    "from bs4 import BeautifulSoup\n",
    "import requests"
   ]
  },
  {
   "cell_type": "code",
   "execution_count": 20,
   "id": "9714497b",
   "metadata": {},
   "outputs": [],
   "source": [
    "url = (\"https://raw.githubusercontent.com/\"\n",
    "       \"joelgrus/data/master/getting-data.html\")\n",
    "html = requests.get(url).text\n",
    "soup = BeautifulSoup(html, 'html5lib')"
   ]
  },
  {
   "cell_type": "code",
   "execution_count": 21,
   "id": "c961c9bc",
   "metadata": {},
   "outputs": [],
   "source": [
    "first_paragraph = soup.find('p')"
   ]
  },
  {
   "cell_type": "code",
   "execution_count": 22,
   "id": "bfc6648c",
   "metadata": {},
   "outputs": [],
   "source": [
    "first_paragraph_text = soup.p.text\n",
    "first_paragraph_words = soup.p.text.split()"
   ]
  },
  {
   "cell_type": "code",
   "execution_count": 23,
   "id": "f20346e1",
   "metadata": {},
   "outputs": [],
   "source": [
    "first_paragraph_id = soup.p['id']\n",
    "first_paragraph_id2 = soup.p.get('id')"
   ]
  },
  {
   "cell_type": "code",
   "execution_count": 24,
   "id": "127cd267",
   "metadata": {},
   "outputs": [],
   "source": [
    "all_paragraphs = soup('p', {'class': 'important'})\n",
    "paragraphs_with_ids = [p for p in soup('p') if p.get('id')]"
   ]
  },
  {
   "cell_type": "code",
   "execution_count": 25,
   "id": "50d11da4",
   "metadata": {},
   "outputs": [],
   "source": [
    "important_paragraphs = soup('p', {'class': 'important'})\n",
    "important_paragraphs2 = soup('p','important')\n",
    "important_paragraphs3 = [p for p in soup('p')\n",
    "                         if 'important' in p.get('class',[])]"
   ]
  },
  {
   "cell_type": "code",
   "execution_count": 26,
   "id": "1d838e62",
   "metadata": {},
   "outputs": [],
   "source": [
    "spans_inside_divs = [span\n",
    "                     for div in soup('div')\n",
    "                     for span in div('span')]"
   ]
  },
  {
   "cell_type": "markdown",
   "id": "3d2a48ed",
   "metadata": {},
   "source": [
    "### Using API's"
   ]
  },
  {
   "cell_type": "markdown",
   "id": "eaef59dc",
   "metadata": {},
   "source": [
    "### JSON & XML"
   ]
  },
  {
   "cell_type": "code",
   "execution_count": 29,
   "id": "11c31759",
   "metadata": {},
   "outputs": [],
   "source": [
    "import json\n",
    "\n",
    "serialized = \"\"\"{ \"title\" : \"Data Science Book\",\n",
    "\"author\" : \"Joel Grus\",\n",
    "\"publicationYear\" : 2019,\n",
    "\"topics\" : [\"data\", \"science\", \"data science\"]}\"\"\""
   ]
  },
  {
   "cell_type": "code",
   "execution_count": 30,
   "id": "14ffeaf0",
   "metadata": {},
   "outputs": [],
   "source": [
    "deserialized = json.loads(serialized)\n",
    "assert deserialized[\"publicationYear\"] == 2019\n",
    "assert \"data science\" in deserialized[\"topics\"]"
   ]
  },
  {
   "cell_type": "markdown",
   "id": "0a0868e1",
   "metadata": {},
   "source": [
    "### Using an Unauthenticated API"
   ]
  },
  {
   "cell_type": "code",
   "execution_count": 31,
   "id": "6b16d83b",
   "metadata": {},
   "outputs": [],
   "source": [
    "import requests, json"
   ]
  },
  {
   "cell_type": "code",
   "execution_count": 32,
   "id": "801650cd",
   "metadata": {},
   "outputs": [],
   "source": [
    "github_user = \"joelgrus\"\n",
    "endpoint = f\"https://api.github.com/users/{github_user}/repos\"\n",
    "\n",
    "repos = json.loads(requests.get(endpoint).text)"
   ]
  },
  {
   "cell_type": "code",
   "execution_count": 33,
   "id": "de553809",
   "metadata": {},
   "outputs": [],
   "source": [
    "from collections import Counter\n",
    "from dateutil.parser import parse"
   ]
  },
  {
   "cell_type": "code",
   "execution_count": 35,
   "id": "10e3dee3",
   "metadata": {},
   "outputs": [],
   "source": [
    "dates = [parse(repo[\"created_at\"])for repo in repos]\n",
    "month_counts = Counter(date.month for date in dates)\n",
    "weekday_counts = Counter(date.weekday() for date in dates)"
   ]
  },
  {
   "cell_type": "code",
   "execution_count": 36,
   "id": "d47b3de5",
   "metadata": {},
   "outputs": [],
   "source": [
    "last_5_repositories = sorted(repos,\n",
    "                             key = lambda r: r[\"pushed_at\"],\n",
    "                             reverse=True)[:5]\n",
    "\n",
    "last_5_languages = [repo[\"language\"]\n",
    "                    for repo in last_5_repositories]"
   ]
  },
  {
   "cell_type": "markdown",
   "id": "6866cf20",
   "metadata": {},
   "source": [
    "### Finding APIs"
   ]
  },
  {
   "cell_type": "markdown",
   "id": "cf668edd",
   "metadata": {},
   "source": [
    "#### Using the Twitter API's\n",
    "#### Getting Credentials"
   ]
  },
  {
   "cell_type": "code",
   "execution_count": 37,
   "id": "baf73b1b",
   "metadata": {},
   "outputs": [],
   "source": [
    "import os"
   ]
  },
  {
   "cell_type": "code",
   "execution_count": null,
   "id": "52601508",
   "metadata": {},
   "outputs": [],
   "source": [
    "# CONSUMER_KEY = os.environ.get(\"\")\n",
    "# CONSUMER_SECRET = os.environ.get(\"\")"
   ]
  },
  {
   "cell_type": "code",
   "execution_count": 43,
   "id": "620eb729",
   "metadata": {},
   "outputs": [],
   "source": [
    "import webbrowser\n",
    "from twython import Twython"
   ]
  },
  {
   "cell_type": "code",
   "execution_count": null,
   "id": "351fa601",
   "metadata": {},
   "outputs": [],
   "source": [
    "# temp_client = Twython(CONSUMER_KEY, CONSUMER_SECRET)\n",
    "# temp_creds = temp_client.get_authentication_tokens()\n",
    "# url = temp_creds['auth_url']"
   ]
  },
  {
   "cell_type": "code",
   "execution_count": null,
   "id": "62fda688",
   "metadata": {},
   "outputs": [],
   "source": [
    "# print((f\"go visit {url} and get the PIN code and paste it below\"))\n",
    "# webbrowser.open(url)\n",
    "# PIN_CODE = input(\"Please enter the PIN code: \")"
   ]
  },
  {
   "cell_type": "code",
   "execution_count": null,
   "id": "5bf37a6c",
   "metadata": {},
   "outputs": [],
   "source": []
  }
 ],
 "metadata": {
  "kernelspec": {
   "display_name": "Python 3 (ipykernel)",
   "language": "python",
   "name": "python3"
  },
  "language_info": {
   "codemirror_mode": {
    "name": "ipython",
    "version": 3
   },
   "file_extension": ".py",
   "mimetype": "text/x-python",
   "name": "python",
   "nbconvert_exporter": "python",
   "pygments_lexer": "ipython3",
   "version": "3.9.16"
  }
 },
 "nbformat": 4,
 "nbformat_minor": 5
}
