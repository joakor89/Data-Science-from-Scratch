{
 "cells": [
  {
   "cell_type": "markdown",
   "id": "e7b71e9a",
   "metadata": {},
   "source": [
    "# Chapter 20 - Clustering"
   ]
  },
  {
   "cell_type": "markdown",
   "id": "eb91038e",
   "metadata": {},
   "source": [
    "### The Model"
   ]
  },
  {
   "cell_type": "code",
   "execution_count": 20,
   "id": "34fc1eab",
   "metadata": {},
   "outputs": [],
   "source": [
    "import numpy as np\n",
    "import pandas as pd\n",
    "import matplotlib.pyplot as plt\n",
    "from typing import List\n",
    "import itertools\n",
    "import random\n",
    "import tqdm\n",
    "import math\n",
    "\n",
    "Vector = List[float]"
   ]
  },
  {
   "cell_type": "code",
   "execution_count": 21,
   "id": "f924c630",
   "metadata": {},
   "outputs": [],
   "source": [
    "def num_differences(v1: Vector, v2: Vector) -> int:\n",
    "    assert len(v1) == len(v2)\n",
    "    return len([x1 for x1, x2 in zip(v1, v2) if x1 != x2])\n",
    "\n",
    "assert num_differences([1, 2, 3], [2, 1, 3]) == 2\n",
    "assert num_differences([1, 2], [1, 2]) == 0"
   ]
  },
  {
   "cell_type": "code",
   "execution_count": 22,
   "id": "fc21db0f",
   "metadata": {},
   "outputs": [],
   "source": [
    "def scalar_multiply(c: float, v: Vector) -> Vector:\n",
    "    \"\"\"Multiplies every element by c\"\"\"\n",
    "    return [c * v_i for v_i in v]\n",
    "\n",
    "assert scalar_multiply(2, [1, 2, 3]) == [2, 4, 6]\n",
    "\n",
    "def vector_mean(vectors: List[Vector]) -> Vector:\n",
    "    \"\"\"Computes the element-wise average\"\"\"\n",
    "    n = len(vectors)\n",
    "    return scalar_multiply(1/n, vector_sum(vectors))\n",
    "\n",
    "def vector_sum(vectors: List[Vector]) -> Vector:\n",
    "    \"\"\"Sums all corresponding elements\"\"\"\n",
    "    # Check that vectors is not empty\n",
    "    assert vectors, \"no vectors provided!\"\n",
    "\n",
    "    # Check the vectors are all the same size\n",
    "    num_elements = len(vectors[0])\n",
    "    assert all(len(v) == num_elements for v in vectors), \"different sizes!\"\n",
    "\n",
    "    # the i-th element of the result is the sum of every vector[i]\n",
    "    return [sum(vector[i] for vector in vectors)\n",
    "            for i in range(num_elements)]\n",
    "\n",
    "assert vector_sum([[1, 2], [3, 4], [5, 6], [7, 8]]) == [16, 20]\n",
    "\n",
    "def subtract(v: Vector, w: Vector) -> Vector:\n",
    "    \"\"\"Subtracts corresponding elements\"\"\"\n",
    "    assert len(v) == len(w), \"vectors must be the same length\"\n",
    "\n",
    "    return [v_i - w_i for v_i, w_i in zip(v, w)]\n",
    "\n",
    "assert subtract([5, 7, 9], [4, 5, 6]) == [1, 2, 3]"
   ]
  },
  {
   "cell_type": "code",
   "execution_count": 23,
   "id": "efd6524b",
   "metadata": {},
   "outputs": [],
   "source": [
    "def cluster_means(k: int,\n",
    "                  inputs: List[Vector],\n",
    "                  assignments: List[int]) -> List[Vector]:\n",
    "    # clusters[i] contains the inputs whose assignment is i\n",
    "    clusters = [[] for i in range(k)]\n",
    "    for input, assignment in zip(inputs, assignments):\n",
    "        clusters[assignment].append(input)\n",
    "\n",
    "    # if a cluster is empty, just use a random point\n",
    "    return [vector_mean(cluster) if cluster else random.choice(inputs)\n",
    "            for cluster in clusters]"
   ]
  },
  {
   "cell_type": "code",
   "execution_count": 24,
   "id": "fb17da7e",
   "metadata": {},
   "outputs": [],
   "source": [
    "def dot(v: Vector, w: Vector) -> float:\n",
    "    \"\"\"Computes v_1 * w_1 + ... + v_n * w_n\"\"\"\n",
    "    assert len(v) == len(w), \"vectors must be same length\"\n",
    "\n",
    "    return sum(v_i * w_i for v_i, w_i in zip(v, w))\n",
    "\n",
    "assert dot([1, 2, 3], [4, 5, 6]) == 32  # 1 * 4 + 2 * 5 + 3 * 6\n",
    "\n",
    "def sum_of_squares(v: Vector) -> float:\n",
    "    \"\"\"Returns v_1 * v_1 + ... + v_n * v_n\"\"\"\n",
    "    return dot(v, v)\n",
    "\n",
    "assert sum_of_squares([1, 2, 3]) == 14  # 1 * 1 + 2 * 2 + 3 * 3\n",
    "\n",
    "def squared_distance(v: Vector, w: Vector) -> float:\n",
    "    \"\"\"Computes (v_1 - w_1) ** 2 + ... + (v_n - w_n) ** 2\"\"\"\n",
    "    return sum_of_squares(subtract(v, w))"
   ]
  },
  {
   "cell_type": "code",
   "execution_count": 25,
   "id": "e9ed373e",
   "metadata": {},
   "outputs": [],
   "source": [
    "class KMeans:\n",
    "    def __init__(self, k: int) -> None:\n",
    "        self.k = k                      # number of clusters\n",
    "        self.means = None\n",
    "\n",
    "    def classify(self, input: Vector) -> int:\n",
    "        \"\"\"return the index of the cluster closest to the input\"\"\"\n",
    "        return min(range(self.k),\n",
    "                   key=lambda i: squared_distance(input, self.means[i]))\n",
    "\n",
    "    def train(self, inputs: List[Vector]) -> None:\n",
    "        # Start with random assignments\n",
    "        assignments = [random.randrange(self.k) for _ in inputs]\n",
    "\n",
    "        with tqdm.tqdm(itertools.count()) as t:\n",
    "            for _ in t:\n",
    "                # Compute means and find new assignments\n",
    "                self.means = cluster_means(self.k, inputs, assignments)\n",
    "                new_assignments = [self.classify(input) for input in inputs]\n",
    "\n",
    "                # Check how many assignments changed and if we're done\n",
    "                num_changed = num_differences(assignments, new_assignments)\n",
    "                if num_changed == 0:\n",
    "                    return\n",
    "\n",
    "                # Otherwise keep the new assignments, and compute new means\n",
    "                assignments = new_assignments\n",
    "                self.means = cluster_means(self.k, inputs, assignments)\n",
    "                t.set_description(f\"changed: {num_changed} / {len(inputs)}\")\n"
   ]
  },
  {
   "cell_type": "markdown",
   "id": "011a32fd",
   "metadata": {},
   "source": [
    "### Example: Meetups"
   ]
  },
  {
   "cell_type": "code",
   "execution_count": 26,
   "id": "d6fa047a",
   "metadata": {},
   "outputs": [],
   "source": [
    "inputs: List[List[float]] = [[-14,-5],[13,13],[20,23],[-19,-11],[-9,-16],[21,27],[-49,15],[26,13],[-46,5],[-34,-1],[11,15],[-49,0],[-22,-16],[19,28],[-12,-8],[-13,-19],[-41,8],[-11,-6],[-25,-9],[-18,-3]]"
   ]
  },
  {
   "cell_type": "code",
   "execution_count": 27,
   "id": "0e81b65e",
   "metadata": {},
   "outputs": [],
   "source": [
    "# random.seed(12)                   # so you get the same results as me\n",
    "# clusterer = KMeans(k=3)\n",
    "# clusterer.train(inputs)\n",
    "# means = sorted(clusterer.means)   # sort for the unit test\n",
    "\n",
    "# assert len(means) == 3\n",
    "\n",
    "# # Check that the means are close to what we expect.\n",
    "# assert squared_distance(means[0], [-44, 5]) < 1\n",
    "# assert squared_distance(means[1], [-16, -10]) < 1\n",
    "# assert squared_distance(means[2], [18, 20]) < 1\n",
    "\n",
    "# random.seed(0)\n",
    "# clusterer = KMeans(k=2)\n",
    "# clusterer.train(inputs)\n",
    "# means = sorted(clusterer.means)\n",
    "\n",
    "# assert len(means) == 2\n",
    "# assert squared_distance(means[0], [-26, -5]) < 1\n",
    "# assert squared_distance(means[1], [18, 20]) < 1"
   ]
  },
  {
   "cell_type": "markdown",
   "id": "795b1d80",
   "metadata": {},
   "source": [
    "### Choosing K"
   ]
  },
  {
   "cell_type": "code",
   "execution_count": 28,
   "id": "a182218a",
   "metadata": {},
   "outputs": [
    {
     "name": "stderr",
     "output_type": "stream",
     "text": [
      "0it [00:00, ?it/s]\n",
      "changed: 8 / 20: : 1it [00:00, 329.17it/s]\n",
      "changed: 1 / 20: : 3it [00:00, 353.23it/s]\n",
      "changed: 1 / 20: : 3it [00:00, 583.33it/s]\n",
      "changed: 5 / 20: : 2it [00:00, 474.71it/s]\n",
      "changed: 3 / 20: : 2it [00:00, 321.13it/s]\n",
      "changed: 4 / 20: : 3it [00:00, 349.74it/s]\n",
      "changed: 1 / 20: : 3it [00:00, 395.40it/s]\n",
      "changed: 1 / 20: : 3it [00:00, 303.80it/s]\n",
      "changed: 2 / 20: : 3it [00:00, 310.33it/s]\n",
      "changed: 1 / 20: : 3it [00:00, 232.47it/s]\n",
      "changed: 2 / 20: : 4it [00:00, 341.88it/s]\n",
      "changed: 2 / 20: : 3it [00:00, 317.13it/s]\n",
      "changed: 1 / 20: : 4it [00:00, 409.03it/s]\n",
      "changed: 1 / 20: : 3it [00:00, 325.85it/s]\n",
      "changed: 1 / 20: : 4it [00:00, 288.82it/s]\n",
      "changed: 1 / 20: : 4it [00:00, 322.30it/s]\n",
      "changed: 1 / 20: : 4it [00:00, 363.70it/s]\n",
      "changed: 2 / 20: : 3it [00:00, 261.98it/s]\n",
      "changed: 7 / 20: : 2it [00:00, 288.80it/s]\n"
     ]
    },
    {
     "data": {
      "image/png": "[encoded data removed]",
      "text/plain": [
       "<Figure size 640x480 with 1 Axes>"
      ]
     },
     "metadata": {},
     "output_type": "display_data"
    }
   ],
   "source": [
    "def squared_clustering_errors(inputs: List[Vector], k: int) -> float:\n",
    "        \"\"\"finds the total squared error from k-means clustering the inputs\"\"\"\n",
    "        clusterer = KMeans(k)\n",
    "        clusterer.train(inputs)\n",
    "        means = clusterer.means\n",
    "        assignments = [clusterer.classify(input) for input in inputs]\n",
    "    \n",
    "        return sum(squared_distance(input, means[cluster])\n",
    "                   for input, cluster in zip(inputs, assignments))\n",
    "    \n",
    "    # now plot from 1 up to len(inputs) clusters\n",
    "    \n",
    "ks = range(1, len(inputs) + 1)\n",
    "errors = [squared_clustering_errors(inputs, k) for k in ks]\n",
    "\n",
    "plt.plot(ks, errors)\n",
    "plt.xticks(ks)\n",
    "plt.xlabel(\"k\")\n",
    "plt.ylabel(\"total squared error\")\n",
    "plt.title(\"Total Error vs. # of Clusters\")\n",
    "plt.show()"
   ]
  },
  {
   "cell_type": "markdown",
   "id": "53276c40",
   "metadata": {},
   "source": [
    "### Botton-Up Hierarchical Clustering"
   ]
  },
  {
   "cell_type": "code",
   "execution_count": 29,
   "id": "00dae9c3",
   "metadata": {},
   "outputs": [],
   "source": [
    "from typing import NamedTuple, Union\n",
    "\n",
    "class Leaf(NamedTuple):\n",
    "    value: Vector\n",
    "\n",
    "leaf1 = Leaf([10,  20])\n",
    "leaf2 = Leaf([30, -15])\n",
    "\n",
    "class Merged(NamedTuple):\n",
    "    children: tuple\n",
    "    order: int\n",
    "\n",
    "merged = Merged((leaf1, leaf2), order=1)\n",
    "\n",
    "Cluster = Union[Leaf, Merged]"
   ]
  },
  {
   "cell_type": "code",
   "execution_count": 30,
   "id": "7c544011",
   "metadata": {},
   "outputs": [],
   "source": [
    "def get_values(cluster: Cluster) -> List[Vector]:\n",
    "    if isinstance(cluster, Leaf):\n",
    "        return [cluster.value]\n",
    "    else:\n",
    "        return [value\n",
    "                for child in cluster.children\n",
    "                for value in get_values(child)]\n",
    "\n",
    "assert get_values(merged) == [[10, 20], [30, -15]]"
   ]
  },
  {
   "cell_type": "code",
   "execution_count": 31,
   "id": "6c7e90d2",
   "metadata": {},
   "outputs": [],
   "source": [
    "from typing import Callable"
   ]
  },
  {
   "cell_type": "code",
   "execution_count": 32,
   "id": "4d3f8d24",
   "metadata": {},
   "outputs": [],
   "source": [
    "def squared_distance(v: Vector, w: Vector) -> float:\n",
    "    \"\"\"Computes (v_1 - w_1) ** 2 + ... + (v_n - w_n) ** 2\"\"\"\n",
    "    return sum_of_squares(subtract(v, w))\n",
    "\n",
    "def distance(v: Vector, w: Vector) -> float:\n",
    "    \"\"\"Computes the distance between v and w\"\"\"\n",
    "    return math.sqrt(squared_distance(v, w))"
   ]
  },
  {
   "cell_type": "code",
   "execution_count": 33,
   "id": "ac228b68",
   "metadata": {},
   "outputs": [],
   "source": [
    "def cluster_distance(cluster1: Cluster,\n",
    "                     cluster2: Cluster,\n",
    "                     distance_agg: Callable = min) -> float:\n",
    "    \"\"\"\n",
    "    compute all the pairwise distances between cluster1 and cluster2\n",
    "    and apply the aggregation function _distance_agg_ to the resulting list\n",
    "    \"\"\"\n",
    "    return distance_agg([distance(v1, v2)\n",
    "                         for v1 in get_values(cluster1)\n",
    "                         for v2 in get_values(cluster2)])"
   ]
  },
  {
   "cell_type": "code",
   "execution_count": 34,
   "id": "345e6144",
   "metadata": {},
   "outputs": [],
   "source": [
    "def get_merge_order(cluster: Cluster) -> float:\n",
    "    if isinstance(cluster, Leaf):\n",
    "        return float('inf')  # was never merged\n",
    "    else:\n",
    "        return cluster.order\n",
    "\n",
    "from typing import Tuple\n",
    "\n",
    "def get_children(cluster: Cluster):\n",
    "    if isinstance(cluster, Leaf):\n",
    "        raise TypeError(\"Leaf has no children\")\n",
    "    else:\n",
    "        return cluster.children"
   ]
  },
  {
   "cell_type": "code",
   "execution_count": 35,
   "id": "b58a9753",
   "metadata": {},
   "outputs": [],
   "source": [
    "def bottom_up_cluster(inputs: List[Vector],\n",
    "                      distance_agg: Callable = min) -> Cluster:\n",
    "    # Start with all leaves\n",
    "    clusters: List[Cluster] = [Leaf(input) for input in inputs]\n",
    "\n",
    "    def pair_distance(pair: Tuple[Cluster, Cluster]) -> float:\n",
    "        return cluster_distance(pair[0], pair[1], distance_agg)\n",
    "\n",
    "    # as long as we have more than one cluster left...\n",
    "    while len(clusters) > 1:\n",
    "        # find the two closest clusters\n",
    "        c1, c2 = min(((cluster1, cluster2)\n",
    "                      for i, cluster1 in enumerate(clusters)\n",
    "                      for cluster2 in clusters[:i]),\n",
    "                      key=pair_distance)\n",
    "\n",
    "        # remove them from the list of clusters\n",
    "        clusters = [c for c in clusters if c != c1 and c != c2]\n",
    "\n",
    "        # merge them, using merge_order = # of clusters left\n",
    "        merged_cluster = Merged((c1, c2), order=len(clusters))\n",
    "\n",
    "        # and add their merge\n",
    "        clusters.append(merged_cluster)\n",
    "\n",
    "    # when there's only one cluster left, return it\n",
    "    return clusters[0]"
   ]
  },
  {
   "cell_type": "code",
   "execution_count": 38,
   "id": "5742f4f8",
   "metadata": {},
   "outputs": [],
   "source": [
    "base_cluster = bottom_up_cluster(inputs)"
   ]
  },
  {
   "cell_type": "code",
   "execution_count": 39,
   "id": "6da8ded2",
   "metadata": {},
   "outputs": [],
   "source": [
    "def generate_clusters(base_cluster: Cluster,\n",
    "                      num_clusters: int) -> List[Cluster]:\n",
    "    # start with a list with just the base cluster\n",
    "    clusters = [base_cluster]\n",
    "\n",
    "    # as long as we don't have enough clusters yet...\n",
    "    while len(clusters) < num_clusters:\n",
    "        # choose the last-merged of our clusters\n",
    "        next_cluster = min(clusters, key=get_merge_order)\n",
    "        # remove it from the list\n",
    "        clusters = [c for c in clusters if c != next_cluster]\n",
    "\n",
    "        # and add its children to the list (i.e., unmerge it)\n",
    "        clusters.extend(get_children(next_cluster))\n",
    "\n",
    "    # once we have enough clusters...\n",
    "    return clusters"
   ]
  },
  {
   "cell_type": "code",
   "execution_count": 43,
   "id": "43fdce08",
   "metadata": {},
   "outputs": [],
   "source": [
    "three_clusters = [get_values(cluster)\n",
    "                 for cluster in generate_clusters(base_cluster, 3)]"
   ]
  },
  {
   "cell_type": "code",
   "execution_count": 45,
   "id": "f5966562",
   "metadata": {},
   "outputs": [
    {
     "data": {
      "image/png": "[encoded data removed]",
      "text/plain": [
       "<Figure size 640x480 with 1 Axes>"
      ]
     },
     "metadata": {},
     "output_type": "display_data"
    }
   ],
   "source": [
    "for i, cluster, marker, color in zip([1, 2, 3],\n",
    "                                         three_clusters,\n",
    "                                         ['D','o','*'],\n",
    "                                         ['r','g','b']):\n",
    "        xs, ys = zip(*cluster)  # magic unzipping trick\n",
    "        plt.scatter(xs, ys, color=color, marker=marker)\n",
    "    \n",
    "        # put a number at the mean of the cluster\n",
    "        x, y = vector_mean(cluster)\n",
    "        plt.plot(x, y, marker='$' + str(i) + '$', color='black')\n",
    "        \n",
    "plt.title(\"User Locations -- 3 Bottom-Up Clusters, Min\")\n",
    "plt.xlabel(\"blocks east of city center\")\n",
    "plt.ylabel(\"blocks north of city center\")\n",
    "plt.show()"
   ]
  },
  {
   "cell_type": "code",
   "execution_count": 50,
   "id": "9e70d147",
   "metadata": {},
   "outputs": [],
   "source": [
    "# base_cluster_max = bottom_up_cluster(inputs, max)\n",
    "# three_clusters_max = [get_values(cluster)\n",
    "#                       for cluster in generate_clusters(base_cluster_max, 3)]\n",
    "    \n",
    "# for i, cluster, marker, color in zip([1, 2, 3],\n",
    "#                                      three_clusters_max,\n",
    "#                                      ['D','o','*'],\n",
    "#                                      ['r','g','b']):\n",
    "#     xs, ys = zip(*cluster)  # magic unzipping trick\n",
    "#     plt.scatter(xs, ys, color=color, marker=marker)\n",
    "\n",
    "#     # put a number at the mean of the cluster\n",
    "#     x, y = vector_mean(cluster)\n",
    "#     plt.plot(x, y, marker='$' + str(i) + '$', color='black')\n",
    "    \n",
    "# plt.title(\"User Locations -- 3 Bottom-Up Clusters, Max\")\n",
    "# plt.xlabel(\"blocks east of city center\")\n",
    "# plt.ylabel(\"blocks north of city center\")\n",
    "# plt.savefig('im/bottom_up_clusters_max.png')\n",
    "# plt.gca().clear()"
   ]
  }
 ],
 "metadata": {
  "kernelspec": {
   "display_name": "Python 3 (ipykernel)",
   "language": "python",
   "name": "python3"
  },
  "language_info": {
   "codemirror_mode": {
    "name": "ipython",
    "version": 3
   },
   "file_extension": ".py",
   "mimetype": "text/x-python",
   "name": "python",
   "nbconvert_exporter": "python",
   "pygments_lexer": "ipython3",
   "version": "3.9.16"
  }
 },
 "nbformat": 4,
 "nbformat_minor": 5
}
