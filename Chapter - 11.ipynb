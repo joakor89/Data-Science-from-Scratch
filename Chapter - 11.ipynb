{
 "cells": [
  {
   "cell_type": "markdown",
   "id": "dcb15bea",
   "metadata": {},
   "source": [
    "# Chapter 11 - Machine Learning"
   ]
  },
  {
   "cell_type": "markdown",
   "id": "d2ec95dd",
   "metadata": {},
   "source": [
    "### Modeling"
   ]
  },
  {
   "cell_type": "markdown",
   "id": "0d28e8cc",
   "metadata": {},
   "source": [
    "#### Import Packages"
   ]
  },
  {
   "cell_type": "code",
   "execution_count": 2,
   "id": "4d52ff3c",
   "metadata": {},
   "outputs": [],
   "source": [
    "import numpy as np\n",
    "import pandas as pd\n",
    "import matplotlib.pyplot as plt\n",
    "import random\n",
    "from typing import TypeVar, List, Tuple"
   ]
  },
  {
   "cell_type": "markdown",
   "id": "9ce8bd42",
   "metadata": {},
   "source": [
    "### Overfitting & Underfitting"
   ]
  },
  {
   "cell_type": "code",
   "execution_count": 4,
   "id": "55d5e93a",
   "metadata": {},
   "outputs": [],
   "source": [
    "X = TypeVar('X')"
   ]
  },
  {
   "cell_type": "code",
   "execution_count": 5,
   "id": "ea3b37f5",
   "metadata": {},
   "outputs": [],
   "source": [
    "def split_data(data: List[X], prob: float) -> Tuple[List[X], List[X]]:\n",
    "    data = data[:]\n",
    "    random.shuffle(data)\n",
    "    cut = int(len(data) * prob)\n",
    "    return data[:cut], data[cut:]"
   ]
  },
  {
   "cell_type": "code",
   "execution_count": 7,
   "id": "31afd3e1",
   "metadata": {},
   "outputs": [],
   "source": [
    "data = [n for n in range(1000)]\n",
    "train, test = split_data(data, 0.75)"
   ]
  },
  {
   "cell_type": "code",
   "execution_count": 8,
   "id": "197fe460",
   "metadata": {},
   "outputs": [],
   "source": [
    "assert len(train) == 750\n",
    "assert len(test) == 250"
   ]
  },
  {
   "cell_type": "code",
   "execution_count": 9,
   "id": "11ee2205",
   "metadata": {},
   "outputs": [],
   "source": [
    "assert sorted(train + test) == data"
   ]
  },
  {
   "cell_type": "code",
   "execution_count": 10,
   "id": "c747f89b",
   "metadata": {},
   "outputs": [],
   "source": [
    "Y = TypeVar('Y')"
   ]
  },
  {
   "cell_type": "code",
   "execution_count": 14,
   "id": "ebad162f",
   "metadata": {},
   "outputs": [],
   "source": [
    "def train_test_split(xs: List[X],\n",
    "                     ys: List[Y],\n",
    "                     test_pct: float) -> Tuple[List[X], List[X], List[Y],\n",
    "                                               List[Y]]:\n",
    "    idxs = [i for i in range(len(xs))]\n",
    "    train_idxs, test_idxs = split_data(idxs, 1 - test_pct)\n",
    "    \n",
    "    return ([xs[i] for i in train_idxs],\n",
    "            [xs[i] for i in test_idxs],\n",
    "            [ys[i] for i in train_idxs],\n",
    "            [ys[i] for i in test_idxs])"
   ]
  },
  {
   "cell_type": "code",
   "execution_count": 15,
   "id": "0cf6f9c8",
   "metadata": {},
   "outputs": [],
   "source": [
    "xs = [x for x in range(1000)]\n",
    "ys = [2 * x for x in xs]\n",
    "x_train, y_train, x_test, y_test = train_test_split(xs, ys, 0.25)"
   ]
  },
  {
   "cell_type": "code",
   "execution_count": 17,
   "id": "51ddda1b",
   "metadata": {},
   "outputs": [],
   "source": [
    "# assert len(x_train) == len(y_train) == 750\n",
    "# assert len(x_test) == len(y_test) == 250"
   ]
  },
  {
   "cell_type": "code",
   "execution_count": 19,
   "id": "1ffe673b",
   "metadata": {},
   "outputs": [],
   "source": [
    "# assert all(y == 2 * x for x, y in zip(x_train, y_train))\n",
    "# assert all(y == 2 * x for x, y in zip(x_test, y_test))"
   ]
  },
  {
   "cell_type": "code",
   "execution_count": 21,
   "id": "0bf3138f",
   "metadata": {},
   "outputs": [],
   "source": [
    "model = \"SomeKindOfModel\"()\n",
    "x_train, x_test, y_train, y_test = train_test_split(xs, ys, 0.33)\n",
    "model.train(x_train, y_train)\n",
    "performance = model.test(x_test, y_test)"
   ]
  },
  {
   "cell_type": "markdown",
   "id": "5f087515",
   "metadata": {},
   "source": [
    "### Correctness"
   ]
  },
  {
   "cell_type": "code",
   "execution_count": 22,
   "id": "c6b278de",
   "metadata": {},
   "outputs": [],
   "source": [
    "def accuracy(tp: int, fp: int, fn: int, tn: int) -> float:\n",
    "    correct = tp + tn\n",
    "    total = tp + fp + fn + tn\n",
    "    return correct / total"
   ]
  },
  {
   "cell_type": "code",
   "execution_count": 24,
   "id": "0704e1c1",
   "metadata": {},
   "outputs": [],
   "source": [
    "assert accuracy(70, 4930, 12930, 981070) == 0.98114"
   ]
  },
  {
   "cell_type": "code",
   "execution_count": 25,
   "id": "0b373fdf",
   "metadata": {},
   "outputs": [],
   "source": [
    "def precision(tp: int, fp: int, fn: int, tn: int) -> float:\n",
    "    return tp / (tp + fp)"
   ]
  },
  {
   "cell_type": "code",
   "execution_count": 26,
   "id": "3feba2a8",
   "metadata": {},
   "outputs": [],
   "source": [
    "assert precision(70, 4930, 13930, 980170) == 0.014"
   ]
  },
  {
   "cell_type": "code",
   "execution_count": 27,
   "id": "1fcb3399",
   "metadata": {},
   "outputs": [],
   "source": [
    "def recall(tp: int, fp: int, fn: int, tn: int) -> float:\n",
    "    return tp / (tp + fn)"
   ]
  },
  {
   "cell_type": "code",
   "execution_count": 28,
   "id": "c3c2ab7c",
   "metadata": {},
   "outputs": [],
   "source": [
    "assert recall (70, 4930, 13930, 980170) == 0.005"
   ]
  },
  {
   "cell_type": "code",
   "execution_count": 29,
   "id": "38098edc",
   "metadata": {},
   "outputs": [],
   "source": [
    "def f1_score(tp: int, fp: int, fn: int, tn: int) -> float:\n",
    "    p = precision(tp, fp, fn, tn)\n",
    "    r = recall(tp, fp, fn, tn)\n",
    "    \n",
    "    return 2 * p * r / (p + r)"
   ]
  },
  {
   "cell_type": "code",
   "execution_count": null,
   "id": "5fd2efe4",
   "metadata": {},
   "outputs": [],
   "source": []
  }
 ],
 "metadata": {
  "kernelspec": {
   "display_name": "Python 3 (ipykernel)",
   "language": "python",
   "name": "python3"
  },
  "language_info": {
   "codemirror_mode": {
    "name": "ipython",
    "version": 3
   },
   "file_extension": ".py",
   "mimetype": "text/x-python",
   "name": "python",
   "nbconvert_exporter": "python",
   "pygments_lexer": "ipython3",
   "version": "3.9.16"
  }
 },
 "nbformat": 4,
 "nbformat_minor": 5
}
