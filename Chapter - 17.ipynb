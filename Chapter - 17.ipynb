{
 "cells": [
  {
   "cell_type": "markdown",
   "id": "b4068f25",
   "metadata": {},
   "source": [
    "# Chapter 17 - Decision Trees"
   ]
  },
  {
   "cell_type": "markdown",
   "id": "7c69150d",
   "metadata": {},
   "source": [
    "### Entropy"
   ]
  },
  {
   "cell_type": "code",
   "execution_count": 1,
   "id": "89754f2f",
   "metadata": {},
   "outputs": [],
   "source": [
    "from typing import List\n",
    "import math"
   ]
  },
  {
   "cell_type": "code",
   "execution_count": 2,
   "id": "14ecede7",
   "metadata": {},
   "outputs": [],
   "source": [
    "def entropy(class_probabilities: List[float]) -> float:\n",
    "    return sum(-p * math.log(p, 2)\n",
    "               for p in class_probabilities\n",
    "               if p > 0)"
   ]
  },
  {
   "cell_type": "code",
   "execution_count": 3,
   "id": "4941d6d2",
   "metadata": {},
   "outputs": [],
   "source": [
    "assert entropy([1.0]) == 0\n",
    "assert entropy([0.5, 0.5]) == 1\n",
    "assert 0.81 < entropy([0.25, 0.75]) < 0.82"
   ]
  },
  {
   "cell_type": "code",
   "execution_count": 4,
   "id": "6f137d8e",
   "metadata": {},
   "outputs": [],
   "source": [
    "from typing import Any\n",
    "from collections import Counter"
   ]
  },
  {
   "cell_type": "code",
   "execution_count": 5,
   "id": "21a235e0",
   "metadata": {},
   "outputs": [],
   "source": [
    "def class_probabilities(labels: List[Any]) -> List[float]:\n",
    "    total_count = len(labels)\n",
    "    return [count / total_count\n",
    "            for count in Counter(labels).values()]"
   ]
  },
  {
   "cell_type": "code",
   "execution_count": 6,
   "id": "1087844e",
   "metadata": {},
   "outputs": [],
   "source": [
    "def data_entropy(labels: List[Any]) -> float:\n",
    "    return entropy(class_probabilities(labels))"
   ]
  },
  {
   "cell_type": "code",
   "execution_count": 7,
   "id": "52b210d6",
   "metadata": {},
   "outputs": [],
   "source": [
    "# assert data_entropy(['a']) == 0\n",
    "# assert data_entropy([True, False]) == 1\n",
    "# assert data_entropy([3, 4, 4, 4]) == entropy([0.25, 0.75])"
   ]
  },
  {
   "cell_type": "markdown",
   "id": "2b77c9e1",
   "metadata": {},
   "source": [
    "### The Entropy of a Partition"
   ]
  },
  {
   "cell_type": "code",
   "execution_count": 8,
   "id": "1afefe94",
   "metadata": {},
   "outputs": [],
   "source": [
    "def partition_entropy(subsets: List[Any]) -> float:\n",
    "    total_count = sum(len(subset) for subset in subsets)\n",
    "    \n",
    "    return sum(data_entropy(subset) * len(subset) / total_count\n",
    "               for subset in subsets)"
   ]
  },
  {
   "cell_type": "code",
   "execution_count": 9,
   "id": "2457885c",
   "metadata": {},
   "outputs": [],
   "source": [
    "from typing import NamedTuple, Optional\n",
    "\n",
    "class Candidate(NamedTuple):\n",
    "    level: str\n",
    "    lang: str\n",
    "    tweets: bool\n",
    "    phd: bool\n",
    "    did_well: Optional[bool] = None\n",
    "        \n",
    "inputs = [Candidate('Senior', 'Java', 'False', 'False', 'False'),\n",
    "          Candidate('Senior', 'Java', 'False', 'True', 'False'),\n",
    "          Candidate('Mid', 'Python', 'False', 'False', 'True'),\n",
    "          Candidate('Junior', 'Python', 'False', 'False', 'True'),\n",
    "          Candidate('Junior', 'R', 'True', 'False', 'True'),\n",
    "          Candidate('Junior', 'R', 'True', 'True', 'False'),\n",
    "          Candidate('Mid', 'R', 'True', 'True', 'True'),\n",
    "          Candidate('Senior', 'Python', 'False', 'False', 'False'),\n",
    "          Candidate('Senior', 'R', 'True', 'False', 'True'),\n",
    "          Candidate('Junior', 'Python', 'True', 'False', 'True'),\n",
    "          Candidate('Senior', 'Python', 'True', 'True', 'True'),\n",
    "          Candidate('Mid', 'Python', 'False', 'True', 'True'),\n",
    "          Candidate('Mid', 'Java', 'True', 'False', 'True'),\n",
    "          Candidate('Junior', 'Python', 'False', 'True', 'False')\n",
    "         ]"
   ]
  },
  {
   "cell_type": "code",
   "execution_count": 10,
   "id": "3dc875d0",
   "metadata": {},
   "outputs": [],
   "source": [
    "from typing import Dict, TypeVar\n",
    "from collections import defaultdict\n",
    "\n",
    "T = TypeVar('T')"
   ]
  },
  {
   "cell_type": "code",
   "execution_count": 11,
   "id": "92dcbe78",
   "metadata": {},
   "outputs": [],
   "source": [
    "def partition_by(inputs: List['T'], attribute: str) -> Dict[Any, List[T]]:\n",
    "    partitions: Dict[Any, List[T]] = defaultdict(list)\n",
    "    for input in inputs:\n",
    "        key = getattr(input, attribute)\n",
    "        partitions[key].append(input)\n",
    "    return partitions"
   ]
  },
  {
   "cell_type": "code",
   "execution_count": 12,
   "id": "1841696e",
   "metadata": {},
   "outputs": [],
   "source": [
    "def partition_entropy_by(inputs: List[Any],\n",
    "                         attribute: str,\n",
    "                         label_attribute: str) -> float:\n",
    "    partitions = partition_by(inputs, attribute)\n",
    "    \n",
    "    labels = [[getattr(input, label_attribute) for input in partition]\n",
    "              for partition in partitions.values()]\n",
    "    \n",
    "    return partition_entropy(labels)"
   ]
  },
  {
   "cell_type": "code",
   "execution_count": 13,
   "id": "53be8f83",
   "metadata": {},
   "outputs": [
    {
     "name": "stdout",
     "output_type": "stream",
     "text": [
      "level 0.6935361388961919\n",
      "lang 0.8601317128547441\n",
      "tweets 0.7884504573082896\n",
      "phd 0.8921589282623617\n"
     ]
    }
   ],
   "source": [
    "for key in ['level', 'lang', 'tweets', 'phd']:\n",
    "    print(key, partition_entropy_by(inputs, key, 'did_well'))"
   ]
  },
  {
   "cell_type": "code",
   "execution_count": 14,
   "id": "782d8e1b",
   "metadata": {},
   "outputs": [],
   "source": [
    "senior_inputs = [input for input in inputs if input.level == 'Senior']"
   ]
  },
  {
   "cell_type": "markdown",
   "id": "a73d5244",
   "metadata": {},
   "source": [
    "### Putting it All Together"
   ]
  },
  {
   "cell_type": "code",
   "execution_count": 15,
   "id": "05ec4e26",
   "metadata": {},
   "outputs": [],
   "source": [
    "from typing import NamedTuple, Union, Any"
   ]
  },
  {
   "cell_type": "code",
   "execution_count": 16,
   "id": "baed701a",
   "metadata": {},
   "outputs": [],
   "source": [
    "class Leaf(NamedTuple):\n",
    "    value: Any\n",
    "        \n",
    "class Split(NamedTuple):\n",
    "    attribute: str\n",
    "    subtrees: dict\n",
    "    default_value: Any = None\n",
    "        \n",
    "DecisionTree = Union[Leaf, Split]"
   ]
  },
  {
   "cell_type": "code",
   "execution_count": 17,
   "id": "f7272a77",
   "metadata": {},
   "outputs": [],
   "source": [
    "hiring_tree = Split('level', {\n",
    "    'Junior': Split('phd', {\n",
    "        False: Leaf(True),\n",
    "        True: Leaf(False)\n",
    "    }),\n",
    "    'Mid': Leaf(True),\n",
    "    'Senior': Split('tweets', {\n",
    "        False: Leaf(False),\n",
    "        True: Leaf(True)\n",
    "    })\n",
    "})"
   ]
  },
  {
   "cell_type": "code",
   "execution_count": 18,
   "id": "a6684d5c",
   "metadata": {},
   "outputs": [],
   "source": [
    "def classify(tree: DecisionTree, input: Any) -> Any:\n",
    "    if isinstance(tree, leaf):\n",
    "        return tree.value\n",
    "    \n",
    "    subtree_key = getattr(input, tree.attribute)\n",
    "    \n",
    "    if subtree_key not in tree.subtrees:\n",
    "        return tree.default_value\n",
    "    \n",
    "    subtree = tree.subtrees[subtree_key]\n",
    "    return classify(subtree, input)"
   ]
  },
  {
   "cell_type": "code",
   "execution_count": 19,
   "id": "a8933c94",
   "metadata": {},
   "outputs": [],
   "source": [
    "def build_tree_id3(inputs: List[Any],\n",
    "                   split_attributes: List[str],\n",
    "                   target_attribute: str) -> DecisionTree:\n",
    "    \n",
    "    labels_counts = Counter(getattr(input, target_attribute)\n",
    "                            for input in inputs)\n",
    "    \n",
    "    most_common_label = label_counts.most_common(1)[0][0]\n",
    "    \n",
    "    if len(label_counts) == 1:\n",
    "        return Leaf(most_common_label)\n",
    "    \n",
    "    if not split_attributes:\n",
    "        return Leaf(most_common_label)\n",
    "    \n",
    "    def split_entropy(attribute: str) -> float:\n",
    "        return partition_entropy_by(inputs, attribute, target_attribute)\n",
    "\n",
    "    best_attribute = min(split_attributes, key= split_entropy)\n",
    "\n",
    "    partitions = partition_by(inputs, best_attribute)\n",
    "    new_attributes = [a for a in split_attributes if a != best_attributes]\n",
    "\n",
    "    subtrees = {attribute_value: build_tree_id3(subset,\n",
    "                                                new_attribute,\n",
    "                                                target_attribute)\n",
    "                \n",
    "                for attribute, subset in partitions.items()}\n",
    "    \n",
    "    return Split(best_attribute, subtrees, default_value=most_common_label)"
   ]
  },
  {
   "cell_type": "code",
   "execution_count": 21,
   "id": "7aba7ab1",
   "metadata": {},
   "outputs": [],
   "source": [
    "# tree = build_tree_id3(inputs,\n",
    "#                       ['level', 'lang', 'tweets', 'phd'],\n",
    "#                       'did_well')"
   ]
  },
  {
   "cell_type": "code",
   "execution_count": 22,
   "id": "e4a314e9",
   "metadata": {},
   "outputs": [],
   "source": [
    "# assert classify(tree, Candidate(\"Junior\", \"Java\", True, False))"
   ]
  },
  {
   "cell_type": "code",
   "execution_count": 23,
   "id": "3ad4929d",
   "metadata": {},
   "outputs": [],
   "source": [
    "# assert not classify(tree, Candidate(\"Junior\", \"Java\", True, True))"
   ]
  },
  {
   "cell_type": "code",
   "execution_count": 24,
   "id": "2de1c031",
   "metadata": {},
   "outputs": [],
   "source": [
    "# assert classify(tree, Candidate(\"Inter\", \"Java\", True, True))"
   ]
  },
  {
   "cell_type": "markdown",
   "id": "12dfff34",
   "metadata": {},
   "source": [
    "### Random Forest"
   ]
  },
  {
   "cell_type": "code",
   "execution_count": 25,
   "id": "b224daff",
   "metadata": {},
   "outputs": [],
   "source": [
    "# if len(split_candidates) <= self.num_split_candidates:\n",
    "#     sample_split_candidates = split_candidates\n",
    "# else:\n",
    "#     sample_split_candidates = random_sample(split_candidates, \n",
    "#                                             self.num_split_candidates)"
   ]
  },
  {
   "cell_type": "code",
   "execution_count": 26,
   "id": "78e6878c",
   "metadata": {},
   "outputs": [],
   "source": [
    "# best_attribute = min(sample_split_candidates, key= split_entropy)"
   ]
  },
  {
   "cell_type": "code",
   "execution_count": 27,
   "id": "014585f0",
   "metadata": {},
   "outputs": [],
   "source": [
    "# partitions = partition_by(inputs, best_attribute)"
   ]
  }
 ],
 "metadata": {
  "kernelspec": {
   "display_name": "Python 3 (ipykernel)",
   "language": "python",
   "name": "python3"
  },
  "language_info": {
   "codemirror_mode": {
    "name": "ipython",
    "version": 3
   },
   "file_extension": ".py",
   "mimetype": "text/x-python",
   "name": "python",
   "nbconvert_exporter": "python",
   "pygments_lexer": "ipython3",
   "version": "3.9.16"
  }
 },
 "nbformat": 4,
 "nbformat_minor": 5
}
